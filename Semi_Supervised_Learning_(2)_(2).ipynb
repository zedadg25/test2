{
  "cells": [
    {
      "cell_type": "markdown",
      "metadata": {
        "id": "RiHLLAQ-1j_y"
      },
      "source": [
        "# Connect"
      ]
    },
    {
      "cell_type": "code",
      "execution_count": null,
      "metadata": {
        "id": "KwVTMqqjQ5I5"
      },
      "outputs": [],
      "source": [
        "# https://chat.openai.com/share/b0ec97ff-b2e8-4efb-8a07-8aa9c32a61dc"
      ]
    },
    {
      "cell_type": "code",
      "execution_count": null,
      "metadata": {
        "colab": {
          "base_uri": "https://localhost:8080/"
        },
        "id": "CkFQNXVmS-uf",
        "outputId": "9f91fc30-7ebb-4260-8090-31f85e3c0d0a"
      },
      "outputs": [
        {
          "name": "stdout",
          "output_type": "stream",
          "text": [
            "Mounted at /content/gdrive\n"
          ]
        }
      ],
      "source": [
        "from google.colab import drive\n",
        "drive.mount('/content/gdrive')"
      ]
    },
    {
      "cell_type": "markdown",
      "metadata": {
        "id": "qK6Qqr2j-WD7"
      },
      "source": [
        "# Install"
      ]
    },
    {
      "cell_type": "code",
      "execution_count": null,
      "metadata": {
        "colab": {
          "base_uri": "https://localhost:8080/"
        },
        "id": "L-qNStwW0Zyy",
        "outputId": "f339b143-e7a2-4745-a7d0-3d733b78abce"
      },
      "outputs": [
        {
          "name": "stdout",
          "output_type": "stream",
          "text": [
            "Requirement already satisfied: numpy in /usr/local/lib/python3.10/dist-packages (1.23.5)\n",
            "Requirement already satisfied: tqdm in /usr/local/lib/python3.10/dist-packages (4.66.1)\n"
          ]
        }
      ],
      "source": [
        "!pip install numpy\n",
        "!pip install nltk>=3.4.5\n",
        "!pip install tqdm"
      ]
    },
    {
      "cell_type": "code",
      "execution_count": null,
      "metadata": {
        "colab": {
          "base_uri": "https://localhost:8080/"
        },
        "id": "UYlnK3mjDbP2",
        "outputId": "1955771d-b094-482e-f3a7-da4153eb4106"
      },
      "outputs": [
        {
          "name": "stdout",
          "output_type": "stream",
          "text": [
            "Requirement already satisfied: transformers in /usr/local/lib/python3.10/dist-packages (4.35.2)\n",
            "Requirement already satisfied: filelock in /usr/local/lib/python3.10/dist-packages (from transformers) (3.13.1)\n",
            "Requirement already satisfied: huggingface-hub<1.0,>=0.16.4 in /usr/local/lib/python3.10/dist-packages (from transformers) (0.20.3)\n",
            "Requirement already satisfied: numpy>=1.17 in /usr/local/lib/python3.10/dist-packages (from transformers) (1.23.5)\n",
            "Requirement already satisfied: packaging>=20.0 in /usr/local/lib/python3.10/dist-packages (from transformers) (23.2)\n",
            "Requirement already satisfied: pyyaml>=5.1 in /usr/local/lib/python3.10/dist-packages (from transformers) (6.0.1)\n",
            "Requirement already satisfied: regex!=2019.12.17 in /usr/local/lib/python3.10/dist-packages (from transformers) (2023.6.3)\n",
            "Requirement already satisfied: requests in /usr/local/lib/python3.10/dist-packages (from transformers) (2.31.0)\n",
            "Requirement already satisfied: tokenizers<0.19,>=0.14 in /usr/local/lib/python3.10/dist-packages (from transformers) (0.15.1)\n",
            "Requirement already satisfied: safetensors>=0.3.1 in /usr/local/lib/python3.10/dist-packages (from transformers) (0.4.1)\n",
            "Requirement already satisfied: tqdm>=4.27 in /usr/local/lib/python3.10/dist-packages (from transformers) (4.66.1)\n",
            "Requirement already satisfied: fsspec>=2023.5.0 in /usr/local/lib/python3.10/dist-packages (from huggingface-hub<1.0,>=0.16.4->transformers) (2023.6.0)\n",
            "Requirement already satisfied: typing-extensions>=3.7.4.3 in /usr/local/lib/python3.10/dist-packages (from huggingface-hub<1.0,>=0.16.4->transformers) (4.5.0)\n",
            "Requirement already satisfied: charset-normalizer<4,>=2 in /usr/local/lib/python3.10/dist-packages (from requests->transformers) (3.3.2)\n",
            "Requirement already satisfied: idna<4,>=2.5 in /usr/local/lib/python3.10/dist-packages (from requests->transformers) (3.6)\n",
            "Requirement already satisfied: urllib3<3,>=1.21.1 in /usr/local/lib/python3.10/dist-packages (from requests->transformers) (2.0.7)\n",
            "Requirement already satisfied: certifi>=2017.4.17 in /usr/local/lib/python3.10/dist-packages (from requests->transformers) (2023.11.17)\n"
          ]
        }
      ],
      "source": [
        "!pip install transformers"
      ]
    },
    {
      "cell_type": "code",
      "execution_count": null,
      "metadata": {
        "colab": {
          "base_uri": "https://localhost:8080/"
        },
        "id": "4g0yzBdKBJkb",
        "outputId": "5ae57061-4a91-4b37-898a-4c577e36532c"
      },
      "outputs": [
        {
          "name": "stdout",
          "output_type": "stream",
          "text": [
            "Cloning into 'bleurt'...\n",
            "remote: Enumerating objects: 134, done.\u001b[K\n",
            "remote: Counting objects: 100% (18/18), done.\u001b[K\n",
            "remote: Compressing objects: 100% (18/18), done.\u001b[K\n",
            "remote: Total 134 (delta 0), reused 17 (delta 0), pack-reused 116\u001b[K\n",
            "Receiving objects: 100% (134/134), 31.28 MiB | 15.68 MiB/s, done.\n",
            "Resolving deltas: 100% (49/49), done.\n",
            "Processing ./bleurt\n",
            "  Preparing metadata (setup.py) ... \u001b[?25l\u001b[?25hdone\n",
            "Requirement already satisfied: pandas in /usr/local/lib/python3.10/dist-packages (from BLEURT==0.0.2) (1.5.3)\n",
            "Requirement already satisfied: numpy in /usr/local/lib/python3.10/dist-packages (from BLEURT==0.0.2) (1.23.5)\n",
            "Requirement already satisfied: scipy in /usr/local/lib/python3.10/dist-packages (from BLEURT==0.0.2) (1.11.4)\n",
            "Requirement already satisfied: tensorflow in /usr/local/lib/python3.10/dist-packages (from BLEURT==0.0.2) (2.15.0)\n",
            "Requirement already satisfied: tf-slim>=1.1 in /usr/local/lib/python3.10/dist-packages (from BLEURT==0.0.2) (1.1.0)\n",
            "Collecting sentencepiece (from BLEURT==0.0.2)\n",
            "  Downloading sentencepiece-0.1.99-cp310-cp310-manylinux_2_17_x86_64.manylinux2014_x86_64.whl (1.3 MB)\n",
            "\u001b[2K     \u001b[90m━━━━━━━━━━━━━━━━━━━━━━━━━━━━━━━━━━━━━━━━\u001b[0m \u001b[32m1.3/1.3 MB\u001b[0m \u001b[31m17.0 MB/s\u001b[0m eta \u001b[36m0:00:00\u001b[0m\n",
            "\u001b[?25hRequirement already satisfied: absl-py>=0.2.2 in /usr/local/lib/python3.10/dist-packages (from tf-slim>=1.1->BLEURT==0.0.2) (1.4.0)\n",
            "Requirement already satisfied: python-dateutil>=2.8.1 in /usr/local/lib/python3.10/dist-packages (from pandas->BLEURT==0.0.2) (2.8.2)\n",
            "Requirement already satisfied: pytz>=2020.1 in /usr/local/lib/python3.10/dist-packages (from pandas->BLEURT==0.0.2) (2023.3.post1)\n",
            "Requirement already satisfied: astunparse>=1.6.0 in /usr/local/lib/python3.10/dist-packages (from tensorflow->BLEURT==0.0.2) (1.6.3)\n",
            "Requirement already satisfied: flatbuffers>=23.5.26 in /usr/local/lib/python3.10/dist-packages (from tensorflow->BLEURT==0.0.2) (23.5.26)\n",
            "Requirement already satisfied: gast!=0.5.0,!=0.5.1,!=0.5.2,>=0.2.1 in /usr/local/lib/python3.10/dist-packages (from tensorflow->BLEURT==0.0.2) (0.5.4)\n",
            "Requirement already satisfied: google-pasta>=0.1.1 in /usr/local/lib/python3.10/dist-packages (from tensorflow->BLEURT==0.0.2) (0.2.0)\n",
            "Requirement already satisfied: h5py>=2.9.0 in /usr/local/lib/python3.10/dist-packages (from tensorflow->BLEURT==0.0.2) (3.9.0)\n",
            "Requirement already satisfied: libclang>=13.0.0 in /usr/local/lib/python3.10/dist-packages (from tensorflow->BLEURT==0.0.2) (16.0.6)\n",
            "Requirement already satisfied: ml-dtypes~=0.2.0 in /usr/local/lib/python3.10/dist-packages (from tensorflow->BLEURT==0.0.2) (0.2.0)\n",
            "Requirement already satisfied: opt-einsum>=2.3.2 in /usr/local/lib/python3.10/dist-packages (from tensorflow->BLEURT==0.0.2) (3.3.0)\n",
            "Requirement already satisfied: packaging in /usr/local/lib/python3.10/dist-packages (from tensorflow->BLEURT==0.0.2) (23.2)\n",
            "Requirement already satisfied: protobuf!=4.21.0,!=4.21.1,!=4.21.2,!=4.21.3,!=4.21.4,!=4.21.5,<5.0.0dev,>=3.20.3 in /usr/local/lib/python3.10/dist-packages (from tensorflow->BLEURT==0.0.2) (3.20.3)\n",
            "Requirement already satisfied: setuptools in /usr/local/lib/python3.10/dist-packages (from tensorflow->BLEURT==0.0.2) (67.7.2)\n",
            "Requirement already satisfied: six>=1.12.0 in /usr/local/lib/python3.10/dist-packages (from tensorflow->BLEURT==0.0.2) (1.16.0)\n",
            "Requirement already satisfied: termcolor>=1.1.0 in /usr/local/lib/python3.10/dist-packages (from tensorflow->BLEURT==0.0.2) (2.4.0)\n",
            "Requirement already satisfied: typing-extensions>=3.6.6 in /usr/local/lib/python3.10/dist-packages (from tensorflow->BLEURT==0.0.2) (4.5.0)\n",
            "Requirement already satisfied: wrapt<1.15,>=1.11.0 in /usr/local/lib/python3.10/dist-packages (from tensorflow->BLEURT==0.0.2) (1.14.1)\n",
            "Requirement already satisfied: tensorflow-io-gcs-filesystem>=0.23.1 in /usr/local/lib/python3.10/dist-packages (from tensorflow->BLEURT==0.0.2) (0.35.0)\n",
            "Requirement already satisfied: grpcio<2.0,>=1.24.3 in /usr/local/lib/python3.10/dist-packages (from tensorflow->BLEURT==0.0.2) (1.60.0)\n",
            "Requirement already satisfied: tensorboard<2.16,>=2.15 in /usr/local/lib/python3.10/dist-packages (from tensorflow->BLEURT==0.0.2) (2.15.1)\n",
            "Requirement already satisfied: tensorflow-estimator<2.16,>=2.15.0 in /usr/local/lib/python3.10/dist-packages (from tensorflow->BLEURT==0.0.2) (2.15.0)\n",
            "Requirement already satisfied: keras<2.16,>=2.15.0 in /usr/local/lib/python3.10/dist-packages (from tensorflow->BLEURT==0.0.2) (2.15.0)\n",
            "Requirement already satisfied: wheel<1.0,>=0.23.0 in /usr/local/lib/python3.10/dist-packages (from astunparse>=1.6.0->tensorflow->BLEURT==0.0.2) (0.42.0)\n",
            "Requirement already satisfied: google-auth<3,>=1.6.3 in /usr/local/lib/python3.10/dist-packages (from tensorboard<2.16,>=2.15->tensorflow->BLEURT==0.0.2) (2.17.3)\n",
            "Requirement already satisfied: google-auth-oauthlib<2,>=0.5 in /usr/local/lib/python3.10/dist-packages (from tensorboard<2.16,>=2.15->tensorflow->BLEURT==0.0.2) (1.2.0)\n",
            "Requirement already satisfied: markdown>=2.6.8 in /usr/local/lib/python3.10/dist-packages (from tensorboard<2.16,>=2.15->tensorflow->BLEURT==0.0.2) (3.5.2)\n",
            "Requirement already satisfied: requests<3,>=2.21.0 in /usr/local/lib/python3.10/dist-packages (from tensorboard<2.16,>=2.15->tensorflow->BLEURT==0.0.2) (2.31.0)\n",
            "Requirement already satisfied: tensorboard-data-server<0.8.0,>=0.7.0 in /usr/local/lib/python3.10/dist-packages (from tensorboard<2.16,>=2.15->tensorflow->BLEURT==0.0.2) (0.7.2)\n",
            "Requirement already satisfied: werkzeug>=1.0.1 in /usr/local/lib/python3.10/dist-packages (from tensorboard<2.16,>=2.15->tensorflow->BLEURT==0.0.2) (3.0.1)\n",
            "Requirement already satisfied: cachetools<6.0,>=2.0.0 in /usr/local/lib/python3.10/dist-packages (from google-auth<3,>=1.6.3->tensorboard<2.16,>=2.15->tensorflow->BLEURT==0.0.2) (5.3.2)\n",
            "Requirement already satisfied: pyasn1-modules>=0.2.1 in /usr/local/lib/python3.10/dist-packages (from google-auth<3,>=1.6.3->tensorboard<2.16,>=2.15->tensorflow->BLEURT==0.0.2) (0.3.0)\n",
            "Requirement already satisfied: rsa<5,>=3.1.4 in /usr/local/lib/python3.10/dist-packages (from google-auth<3,>=1.6.3->tensorboard<2.16,>=2.15->tensorflow->BLEURT==0.0.2) (4.9)\n",
            "Requirement already satisfied: requests-oauthlib>=0.7.0 in /usr/local/lib/python3.10/dist-packages (from google-auth-oauthlib<2,>=0.5->tensorboard<2.16,>=2.15->tensorflow->BLEURT==0.0.2) (1.3.1)\n",
            "Requirement already satisfied: charset-normalizer<4,>=2 in /usr/local/lib/python3.10/dist-packages (from requests<3,>=2.21.0->tensorboard<2.16,>=2.15->tensorflow->BLEURT==0.0.2) (3.3.2)\n",
            "Requirement already satisfied: idna<4,>=2.5 in /usr/local/lib/python3.10/dist-packages (from requests<3,>=2.21.0->tensorboard<2.16,>=2.15->tensorflow->BLEURT==0.0.2) (3.6)\n",
            "Requirement already satisfied: urllib3<3,>=1.21.1 in /usr/local/lib/python3.10/dist-packages (from requests<3,>=2.21.0->tensorboard<2.16,>=2.15->tensorflow->BLEURT==0.0.2) (2.0.7)\n",
            "Requirement already satisfied: certifi>=2017.4.17 in /usr/local/lib/python3.10/dist-packages (from requests<3,>=2.21.0->tensorboard<2.16,>=2.15->tensorflow->BLEURT==0.0.2) (2023.11.17)\n",
            "Requirement already satisfied: MarkupSafe>=2.1.1 in /usr/local/lib/python3.10/dist-packages (from werkzeug>=1.0.1->tensorboard<2.16,>=2.15->tensorflow->BLEURT==0.0.2) (2.1.4)\n",
            "Requirement already satisfied: pyasn1<0.6.0,>=0.4.6 in /usr/local/lib/python3.10/dist-packages (from pyasn1-modules>=0.2.1->google-auth<3,>=1.6.3->tensorboard<2.16,>=2.15->tensorflow->BLEURT==0.0.2) (0.5.1)\n",
            "Requirement already satisfied: oauthlib>=3.0.0 in /usr/local/lib/python3.10/dist-packages (from requests-oauthlib>=0.7.0->google-auth-oauthlib<2,>=0.5->tensorboard<2.16,>=2.15->tensorflow->BLEURT==0.0.2) (3.2.2)\n",
            "Building wheels for collected packages: BLEURT\n",
            "  Building wheel for BLEURT (setup.py) ... \u001b[?25l\u001b[?25hdone\n",
            "  Created wheel for BLEURT: filename=BLEURT-0.0.2-py3-none-any.whl size=16456765 sha256=ea7f18e0c8e5fa5299091b91034cd8a3d312da8185daaaa0f8f116fd8ae53544\n",
            "  Stored in directory: /tmp/pip-ephem-wheel-cache-9b_mjiz7/wheels/92/4f/fb/afa555fa27aa9e2c7958df797a62cc4e74f0f459cec9c4fa7c\n",
            "Successfully built BLEURT\n",
            "Installing collected packages: sentencepiece, BLEURT\n",
            "Successfully installed BLEURT-0.0.2 sentencepiece-0.1.99\n",
            "--2024-01-24 18:12:07--  https://storage.googleapis.com/bleurt-oss-21/BLEURT-20-D3.zip\n",
            "Resolving storage.googleapis.com (storage.googleapis.com)... 64.233.170.207, 142.251.175.207, 74.125.24.207, ...\n",
            "Connecting to storage.googleapis.com (storage.googleapis.com)|64.233.170.207|:443... connected.\n",
            "HTTP request sent, awaiting response... 200 OK\n",
            "Length: 116298933 (111M) [application/octet-stream]\n",
            "Saving to: ‘BLEURT-20-D3.zip’\n",
            "\n",
            "BLEURT-20-D3.zip    100%[===================>] 110.91M  20.5MB/s    in 6.5s    \n",
            "\n",
            "2024-01-24 18:12:14 (17.0 MB/s) - ‘BLEURT-20-D3.zip’ saved [116298933/116298933]\n",
            "\n",
            "--2024-01-24 18:12:14--  http://./\n",
            "Resolving . (.)... failed: No address associated with hostname.\n",
            "wget: unable to resolve host address ‘.’\n",
            "FINISHED --2024-01-24 18:12:14--\n",
            "Total wall clock time: 7.0s\n",
            "Downloaded: 1 files, 111M in 6.5s (17.0 MB/s)\n",
            "Archive:  BLEURT-20-D3.zip\n",
            "   creating: BLEURT-20-D3/\n",
            "  inflating: BLEURT-20-D3/bert_config.json  \n",
            "  inflating: BLEURT-20-D3/saved_model.pb  \n",
            "   creating: BLEURT-20-D3/variables/\n",
            "  inflating: BLEURT-20-D3/variables/variables.index  \n",
            "  inflating: BLEURT-20-D3/variables/variables.data-00000-of-00001  \n",
            "  inflating: BLEURT-20-D3/sent_piece.vocab  \n",
            "  inflating: BLEURT-20-D3/bleurt_config.json  \n",
            "  inflating: BLEURT-20-D3/sent_piece.model  \n"
          ]
        }
      ],
      "source": [
        "!git clone https://github.com/google-research/bleurt.git\n",
        "!cd bleurt\n",
        "!cd bleurt\n",
        "!pip install ./bleurt\n",
        "!wget https://storage.googleapis.com/bleurt-oss-21/BLEURT-20-D3.zip .\n",
        "!unzip 'BLEURT-20-D3.zip'"
      ]
    },
    {
      "cell_type": "markdown",
      "metadata": {
        "id": "IblW1U_9QXN3"
      },
      "source": [
        "# Imports"
      ]
    },
    {
      "cell_type": "code",
      "execution_count": null,
      "metadata": {
        "id": "Ke5sDm_k975M"
      },
      "outputs": [],
      "source": [
        "import re\n",
        "import nltk\n",
        "import datetime,time\n",
        "import pandas as pd\n",
        "import string\n",
        "import numpy as np\n",
        "from tqdm import tqdm\n",
        "\n",
        "import torch\n",
        "import torch.nn as nn\n",
        "\n",
        "from sklearn.model_selection import train_test_split\n",
        "from torch.utils.data import DataLoader\n",
        "from transformers import (AdamW, AutoTokenizer,AutoModelForSeq2SeqLM,\n",
        "                          T5ForConditionalGeneration, T5Tokenizer, MT5ForConditionalGeneration,\n",
        "                          AutoConfig, AutoModelForCausalLM,\n",
        "                          get_linear_schedule_with_warmup)\n",
        "from transformers.optimization import Adafactor, AdafactorSchedule\n",
        "\n",
        "import random\n",
        "import os\n",
        "\n",
        "from bleurt import score\n",
        "from sklearn.metrics import f1_score\n",
        "\n",
        "\n",
        "def set_seed(seed):\n",
        "    random.seed(seed)\n",
        "    np.random.seed(seed)\n",
        "    torch.manual_seed(seed)\n",
        "    torch.cuda.manual_seed(seed)\n",
        "    torch.backends.cudnn.deterministic = True\n",
        "    torch.backends.cudnn.benchmark = False\n",
        "    os.environ['PYTHONHASHSEED'] = str(seed)\n"
      ]
    },
    {
      "cell_type": "code",
      "execution_count": null,
      "metadata": {
        "id": "hsJMse7lBZ0v"
      },
      "outputs": [],
      "source": []
    },
    {
      "cell_type": "markdown",
      "metadata": {
        "id": "saS3nSKIK1W5"
      },
      "source": [
        "#Connect to wandb"
      ]
    },
    {
      "cell_type": "code",
      "execution_count": null,
      "metadata": {
        "id": "9mmLlf61DcV8"
      },
      "outputs": [],
      "source": [
        "wandb_key = '0529a3ad694a5487302b30b185aebe0c349aa1da'"
      ]
    },
    {
      "cell_type": "code",
      "execution_count": null,
      "metadata": {
        "colab": {
          "base_uri": "https://localhost:8080/"
        },
        "id": "MfXIes4RDhVp",
        "outputId": "4c5bf7ca-491d-4cd8-80d3-aa8f51ecbfc3"
      },
      "outputs": [
        {
          "name": "stdout",
          "output_type": "stream",
          "text": [
            "Collecting wandb\n",
            "  Downloading wandb-0.16.2-py3-none-any.whl (2.2 MB)\n",
            "\u001b[2K     \u001b[90m━━━━━━━━━━━━━━━━━━━━━━━━━━━━━━━━━━━━━━━━\u001b[0m \u001b[32m2.2/2.2 MB\u001b[0m \u001b[31m23.9 MB/s\u001b[0m eta \u001b[36m0:00:00\u001b[0m\n",
            "\u001b[?25hRequirement already satisfied: Click!=8.0.0,>=7.1 in /usr/local/lib/python3.10/dist-packages (from wandb) (8.1.7)\n",
            "Collecting GitPython!=3.1.29,>=1.0.0 (from wandb)\n",
            "  Downloading GitPython-3.1.41-py3-none-any.whl (196 kB)\n",
            "\u001b[2K     \u001b[90m━━━━━━━━━━━━━━━━━━━━━━━━━━━━━━━━━━━━━━━━\u001b[0m \u001b[32m196.4/196.4 kB\u001b[0m \u001b[31m27.5 MB/s\u001b[0m eta \u001b[36m0:00:00\u001b[0m\n",
            "\u001b[?25hRequirement already satisfied: requests<3,>=2.0.0 in /usr/local/lib/python3.10/dist-packages (from wandb) (2.31.0)\n",
            "Requirement already satisfied: psutil>=5.0.0 in /usr/local/lib/python3.10/dist-packages (from wandb) (5.9.5)\n",
            "Collecting sentry-sdk>=1.0.0 (from wandb)\n",
            "  Downloading sentry_sdk-1.39.2-py2.py3-none-any.whl (254 kB)\n",
            "\u001b[2K     \u001b[90m━━━━━━━━━━━━━━━━━━━━━━━━━━━━━━━━━━━━━━━━\u001b[0m \u001b[32m254.1/254.1 kB\u001b[0m \u001b[31m34.5 MB/s\u001b[0m eta \u001b[36m0:00:00\u001b[0m\n",
            "\u001b[?25hCollecting docker-pycreds>=0.4.0 (from wandb)\n",
            "  Downloading docker_pycreds-0.4.0-py2.py3-none-any.whl (9.0 kB)\n",
            "Requirement already satisfied: PyYAML in /usr/local/lib/python3.10/dist-packages (from wandb) (6.0.1)\n",
            "Collecting setproctitle (from wandb)\n",
            "  Downloading setproctitle-1.3.3-cp310-cp310-manylinux_2_5_x86_64.manylinux1_x86_64.manylinux_2_17_x86_64.manylinux2014_x86_64.whl (30 kB)\n",
            "Requirement already satisfied: setuptools in /usr/local/lib/python3.10/dist-packages (from wandb) (67.7.2)\n",
            "Requirement already satisfied: appdirs>=1.4.3 in /usr/local/lib/python3.10/dist-packages (from wandb) (1.4.4)\n",
            "Requirement already satisfied: protobuf!=4.21.0,<5,>=3.19.0 in /usr/local/lib/python3.10/dist-packages (from wandb) (3.20.3)\n",
            "Requirement already satisfied: six>=1.4.0 in /usr/local/lib/python3.10/dist-packages (from docker-pycreds>=0.4.0->wandb) (1.16.0)\n",
            "Collecting gitdb<5,>=4.0.1 (from GitPython!=3.1.29,>=1.0.0->wandb)\n",
            "  Downloading gitdb-4.0.11-py3-none-any.whl (62 kB)\n",
            "\u001b[2K     \u001b[90m━━━━━━━━━━━━━━━━━━━━━━━━━━━━━━━━━━━━━━━━\u001b[0m \u001b[32m62.7/62.7 kB\u001b[0m \u001b[31m10.2 MB/s\u001b[0m eta \u001b[36m0:00:00\u001b[0m\n",
            "\u001b[?25hRequirement already satisfied: charset-normalizer<4,>=2 in /usr/local/lib/python3.10/dist-packages (from requests<3,>=2.0.0->wandb) (3.3.2)\n",
            "Requirement already satisfied: idna<4,>=2.5 in /usr/local/lib/python3.10/dist-packages (from requests<3,>=2.0.0->wandb) (3.6)\n",
            "Requirement already satisfied: urllib3<3,>=1.21.1 in /usr/local/lib/python3.10/dist-packages (from requests<3,>=2.0.0->wandb) (2.0.7)\n",
            "Requirement already satisfied: certifi>=2017.4.17 in /usr/local/lib/python3.10/dist-packages (from requests<3,>=2.0.0->wandb) (2023.11.17)\n",
            "Collecting smmap<6,>=3.0.1 (from gitdb<5,>=4.0.1->GitPython!=3.1.29,>=1.0.0->wandb)\n",
            "  Downloading smmap-5.0.1-py3-none-any.whl (24 kB)\n",
            "Installing collected packages: smmap, setproctitle, sentry-sdk, docker-pycreds, gitdb, GitPython, wandb\n",
            "Successfully installed GitPython-3.1.41 docker-pycreds-0.4.0 gitdb-4.0.11 sentry-sdk-1.39.2 setproctitle-1.3.3 smmap-5.0.1 wandb-0.16.2\n",
            "\u001b[34m\u001b[1mwandb\u001b[0m: Logging into wandb.ai. (Learn how to deploy a W&B server locally: https://wandb.me/wandb-server)\n",
            "\u001b[34m\u001b[1mwandb\u001b[0m: You can find your API key in your browser here: https://wandb.ai/authorize\n",
            "\u001b[34m\u001b[1mwandb\u001b[0m: Paste an API key from your profile and hit enter, or press ctrl+c to quit: \n",
            "\u001b[34m\u001b[1mwandb\u001b[0m: Appending key for api.wandb.ai to your netrc file: /root/.netrc\n"
          ]
        }
      ],
      "source": [
        "!pip install wandb\n",
        "!wandb login"
      ]
    },
    {
      "cell_type": "code",
      "execution_count": null,
      "metadata": {
        "id": "O2Q5UtMvKv2x"
      },
      "outputs": [],
      "source": [
        "import wandb"
      ]
    },
    {
      "cell_type": "code",
      "execution_count": null,
      "metadata": {
        "colab": {
          "base_uri": "https://localhost:8080/"
        },
        "id": "XEIUO3nhVliN",
        "outputId": "27d39520-2d1a-430b-8a06-cd348290f29b"
      },
      "outputs": [
        {
          "name": "stdout",
          "output_type": "stream",
          "text": [
            "Wed Jan 24 18:12:46 2024       \n",
            "+---------------------------------------------------------------------------------------+\n",
            "| NVIDIA-SMI 535.104.05             Driver Version: 535.104.05   CUDA Version: 12.2     |\n",
            "|-----------------------------------------+----------------------+----------------------+\n",
            "| GPU  Name                 Persistence-M | Bus-Id        Disp.A | Volatile Uncorr. ECC |\n",
            "| Fan  Temp   Perf          Pwr:Usage/Cap |         Memory-Usage | GPU-Util  Compute M. |\n",
            "|                                         |                      |               MIG M. |\n",
            "|=========================================+======================+======================|\n",
            "|   0  NVIDIA A100-SXM4-40GB          Off | 00000000:00:04.0 Off |                    0 |\n",
            "| N/A   31C    P0              45W / 400W |      2MiB / 40960MiB |      0%      Default |\n",
            "|                                         |                      |             Disabled |\n",
            "+-----------------------------------------+----------------------+----------------------+\n",
            "                                                                                         \n",
            "+---------------------------------------------------------------------------------------+\n",
            "| Processes:                                                                            |\n",
            "|  GPU   GI   CI        PID   Type   Process name                            GPU Memory |\n",
            "|        ID   ID                                                             Usage      |\n",
            "|=======================================================================================|\n",
            "|  No running processes found                                                           |\n",
            "+---------------------------------------------------------------------------------------+\n"
          ]
        }
      ],
      "source": [
        "!nvidia-smi"
      ]
    },
    {
      "cell_type": "markdown",
      "metadata": {
        "id": "YkK4KYich-xo"
      },
      "source": [
        "# Config"
      ]
    },
    {
      "cell_type": "code",
      "execution_count": null,
      "metadata": {
        "id": "jF2PBAli2nPY"
      },
      "outputs": [],
      "source": [
        "class config:\n",
        "  DATASET_LABELED_PATH = '/content/gdrive/MyDrive/Colab Notebooks/cercetare ABSA/dataset/ro/ro_aspects_combine_on_a_line.csv'\n",
        "  DATASET_pseudoLABELED_PATH_FINAL = '/content/gdrive/MyDrive/Colab Notebooks/cercetare ABSA/dataset/ro/pseudolabeled_reviews.csv'\n",
        "  DATASET_FINAL_SAVE_PATH = '/content/gdrive/MyDrive/Colab Notebooks/cercetare ABSA/dataset/ro/labeled_reviews_by_student.csv'\n",
        "\n",
        "  MODEL_ATE_PATH = '/content/gdrive/MyDrive/Colab Notebooks/cercetare ABSA/models/ate_enroaug_cat_v6.pt'\n",
        "  MODEL_STUDENT_SAVE_PATH = '/content/gdrive/MyDrive/Colab Notebooks/cercetare ABSA/models/ate_stud_ro_v1.pt'\n",
        "  PRE_TRAINED_TOKENIZER_NAME ='google/mt5-base'\n",
        "  MODEL_BASE ='google/mt5-base'\n",
        "  bleurt_checkpoint = './BLEURT-20-D3'\n",
        "\n",
        "  PROMPT = 'Extract a list with the text spans that are aspect terms, from the following Romanian text: '  # aspect terms/categories\n",
        "\n",
        "  MAX_SOURCE_LEN = 512\n",
        "  MAX_TARGET_LEN = 15\n",
        "\n",
        "  BATCH_SIZE_TRAIN_LBL = 4\n",
        "  BATCH_SIZE_TRAIN_ULBL = 4\n",
        "  BATCH_SIZE_TEST = 2\n",
        "\n",
        "  EPOCHS=3\n",
        "  LR = [1e-4, 3e-4]\n",
        "  EPS = 1e-5\n",
        "  LOSS_WEIGHT = 0.5\n",
        "\n",
        "  DEVICE = torch.device(\"cuda:0\") if torch.cuda.is_available() else torch.device(\"cpu\")"
      ]
    },
    {
      "cell_type": "markdown",
      "metadata": {
        "id": "rf83dSLKupMh"
      },
      "source": [
        "# Read data"
      ]
    },
    {
      "cell_type": "markdown",
      "metadata": {
        "id": "scwQ7CyMeNkd"
      },
      "source": [
        "AIM: LEARN THE MODEL TO PREDICT ALL ASPECT CATEGORIES FROM A TEXT"
      ]
    },
    {
      "cell_type": "code",
      "execution_count": null,
      "metadata": {
        "id": "OGath5noOPdD"
      },
      "outputs": [],
      "source": [
        "df_lbl = pd.read_csv(config.DATASET_LABELED_PATH)\n",
        "df_ulbl =  pd.read_csv(config.DATASET_pseudoLABELED_PATH_FINAL)"
      ]
    },
    {
      "cell_type": "code",
      "execution_count": null,
      "metadata": {
        "colab": {
          "base_uri": "https://localhost:8080/"
        },
        "id": "7Ymdsi7LebvA",
        "outputId": "a6b7b726-1fd6-4f1e-e247-5a707e263173"
      },
      "outputs": [
        {
          "data": {
            "text/plain": [
              "(15943, 999)"
            ]
          },
          "execution_count": 74,
          "metadata": {},
          "output_type": "execute_result"
        }
      ],
      "source": [
        "df_lbl.drop(columns=['Unnamed: 0.1','Unnamed: 0'], inplace=True)\n",
        "df_ulbl.drop(columns=['Unnamed: 0.1','Unnamed: 0'], inplace=True)\n",
        "\n",
        "df_ulbl.rename(columns={'pseudo_all_categories':'all_categories'}, inplace=True)\n",
        "df_lbl.rename(columns={'text_review':'text'}, inplace=True)\n",
        "\n",
        "df_lbl['type'] = 'labeled'\n",
        "df_ulbl['type'] = 'paseudo-labeled'\n",
        "\n",
        "df_lbl.dropna(subset=['text'],inplace=True)\n",
        "df_ulbl.dropna(subset=['text'],inplace=True)\n",
        "len(df_ulbl), len(df_lbl)"
      ]
    },
    {
      "cell_type": "code",
      "execution_count": null,
      "metadata": {
        "colab": {
          "base_uri": "https://localhost:8080/"
        },
        "id": "mUqBYdiEOoP3",
        "outputId": "c898a7e7-d93d-44ec-cb3f-42a2c81c3ca2"
      },
      "outputs": [
        {
          "data": {
            "text/html": [
              "\n",
              "  <div id=\"df-9591ed93-7325-44da-890d-d442d815cbe7\" class=\"colab-df-container\">\n",
              "    <div>\n",
              "<style scoped>\n",
              "    .dataframe tbody tr th:only-of-type {\n",
              "        vertical-align: middle;\n",
              "    }\n",
              "\n",
              "    .dataframe tbody tr th {\n",
              "        vertical-align: top;\n",
              "    }\n",
              "\n",
              "    .dataframe thead th {\n",
              "        text-align: right;\n",
              "    }\n",
              "</style>\n",
              "<table border=\"1\" class=\"dataframe\">\n",
              "  <thead>\n",
              "    <tr style=\"text-align: right;\">\n",
              "      <th></th>\n",
              "      <th>id</th>\n",
              "      <th>text</th>\n",
              "      <th>aspect</th>\n",
              "      <th>polarity_aspect</th>\n",
              "      <th>category_aspect</th>\n",
              "      <th>all_aspects</th>\n",
              "      <th>all_categories</th>\n",
              "      <th>type</th>\n",
              "    </tr>\n",
              "  </thead>\n",
              "  <tbody>\n",
              "    <tr>\n",
              "      <th>0</th>\n",
              "      <td>a.3zUCvkq5sMQniYGQsF1S7cuIRq-2979133___rating_...</td>\n",
              "      <td>Sunt foarte multumita de acest magazin.ma bucu...</td>\n",
              "      <td>Sunt foarte multumita de acest magazin</td>\n",
              "      <td>1.0</td>\n",
              "      <td>magazin</td>\n",
              "      <td>Sunt foarte multumita de acest magazin; recoma...</td>\n",
              "      <td>magazin; magazin;</td>\n",
              "      <td>labeled</td>\n",
              "    </tr>\n",
              "  </tbody>\n",
              "</table>\n",
              "</div>\n",
              "    <div class=\"colab-df-buttons\">\n",
              "\n",
              "  <div class=\"colab-df-container\">\n",
              "    <button class=\"colab-df-convert\" onclick=\"convertToInteractive('df-9591ed93-7325-44da-890d-d442d815cbe7')\"\n",
              "            title=\"Convert this dataframe to an interactive table.\"\n",
              "            style=\"display:none;\">\n",
              "\n",
              "  <svg xmlns=\"http://www.w3.org/2000/svg\" height=\"24px\" viewBox=\"0 -960 960 960\">\n",
              "    <path d=\"M120-120v-720h720v720H120Zm60-500h600v-160H180v160Zm220 220h160v-160H400v160Zm0 220h160v-160H400v160ZM180-400h160v-160H180v160Zm440 0h160v-160H620v160ZM180-180h160v-160H180v160Zm440 0h160v-160H620v160Z\"/>\n",
              "  </svg>\n",
              "    </button>\n",
              "\n",
              "  <style>\n",
              "    .colab-df-container {\n",
              "      display:flex;\n",
              "      gap: 12px;\n",
              "    }\n",
              "\n",
              "    .colab-df-convert {\n",
              "      background-color: #E8F0FE;\n",
              "      border: none;\n",
              "      border-radius: 50%;\n",
              "      cursor: pointer;\n",
              "      display: none;\n",
              "      fill: #1967D2;\n",
              "      height: 32px;\n",
              "      padding: 0 0 0 0;\n",
              "      width: 32px;\n",
              "    }\n",
              "\n",
              "    .colab-df-convert:hover {\n",
              "      background-color: #E2EBFA;\n",
              "      box-shadow: 0px 1px 2px rgba(60, 64, 67, 0.3), 0px 1px 3px 1px rgba(60, 64, 67, 0.15);\n",
              "      fill: #174EA6;\n",
              "    }\n",
              "\n",
              "    .colab-df-buttons div {\n",
              "      margin-bottom: 4px;\n",
              "    }\n",
              "\n",
              "    [theme=dark] .colab-df-convert {\n",
              "      background-color: #3B4455;\n",
              "      fill: #D2E3FC;\n",
              "    }\n",
              "\n",
              "    [theme=dark] .colab-df-convert:hover {\n",
              "      background-color: #434B5C;\n",
              "      box-shadow: 0px 1px 3px 1px rgba(0, 0, 0, 0.15);\n",
              "      filter: drop-shadow(0px 1px 2px rgba(0, 0, 0, 0.3));\n",
              "      fill: #FFFFFF;\n",
              "    }\n",
              "  </style>\n",
              "\n",
              "    <script>\n",
              "      const buttonEl =\n",
              "        document.querySelector('#df-9591ed93-7325-44da-890d-d442d815cbe7 button.colab-df-convert');\n",
              "      buttonEl.style.display =\n",
              "        google.colab.kernel.accessAllowed ? 'block' : 'none';\n",
              "\n",
              "      async function convertToInteractive(key) {\n",
              "        const element = document.querySelector('#df-9591ed93-7325-44da-890d-d442d815cbe7');\n",
              "        const dataTable =\n",
              "          await google.colab.kernel.invokeFunction('convertToInteractive',\n",
              "                                                    [key], {});\n",
              "        if (!dataTable) return;\n",
              "\n",
              "        const docLinkHtml = 'Like what you see? Visit the ' +\n",
              "          '<a target=\"_blank\" href=https://colab.research.google.com/notebooks/data_table.ipynb>data table notebook</a>'\n",
              "          + ' to learn more about interactive tables.';\n",
              "        element.innerHTML = '';\n",
              "        dataTable['output_type'] = 'display_data';\n",
              "        await google.colab.output.renderOutput(dataTable, element);\n",
              "        const docLink = document.createElement('div');\n",
              "        docLink.innerHTML = docLinkHtml;\n",
              "        element.appendChild(docLink);\n",
              "      }\n",
              "    </script>\n",
              "  </div>\n",
              "\n",
              "    </div>\n",
              "  </div>\n"
            ],
            "text/plain": [
              "                                                  id  \\\n",
              "0  a.3zUCvkq5sMQniYGQsF1S7cuIRq-2979133___rating_...   \n",
              "\n",
              "                                                text  \\\n",
              "0  Sunt foarte multumita de acest magazin.ma bucu...   \n",
              "\n",
              "                                   aspect  polarity_aspect category_aspect  \\\n",
              "0  Sunt foarte multumita de acest magazin              1.0         magazin   \n",
              "\n",
              "                                         all_aspects      all_categories  \\\n",
              "0  Sunt foarte multumita de acest magazin; recoma...  magazin; magazin;    \n",
              "\n",
              "      type  \n",
              "0  labeled  "
            ]
          },
          "execution_count": 75,
          "metadata": {},
          "output_type": "execute_result"
        }
      ],
      "source": [
        "df_lbl.head(1)"
      ]
    },
    {
      "cell_type": "code",
      "execution_count": null,
      "metadata": {
        "colab": {
          "base_uri": "https://localhost:8080/"
        },
        "id": "MmerOX31eWZa",
        "outputId": "9f6d486e-be2d-4319-cacf-d5112fe19d99"
      },
      "outputs": [
        {
          "data": {
            "text/html": [
              "\n",
              "  <div id=\"df-0c814ee6-ac73-458e-bca9-2c53e0a882fe\" class=\"colab-df-container\">\n",
              "    <div>\n",
              "<style scoped>\n",
              "    .dataframe tbody tr th:only-of-type {\n",
              "        vertical-align: middle;\n",
              "    }\n",
              "\n",
              "    .dataframe tbody tr th {\n",
              "        vertical-align: top;\n",
              "    }\n",
              "\n",
              "    .dataframe thead th {\n",
              "        text-align: right;\n",
              "    }\n",
              "</style>\n",
              "<table border=\"1\" class=\"dataframe\">\n",
              "  <thead>\n",
              "    <tr style=\"text-align: right;\">\n",
              "      <th></th>\n",
              "      <th>text</th>\n",
              "      <th>most_inner_category</th>\n",
              "      <th>rating</th>\n",
              "      <th>all_categories</th>\n",
              "      <th>type</th>\n",
              "    </tr>\n",
              "  </thead>\n",
              "  <tbody>\n",
              "    <tr>\n",
              "      <th>0</th>\n",
              "      <td>Castile astea le am de la final de 2021, deci ...</td>\n",
              "      <td>GamingHeadset</td>\n",
              "      <td>4</td>\n",
              "      <td>experienta;calitate</td>\n",
              "      <td>paseudo-labeled</td>\n",
              "    </tr>\n",
              "  </tbody>\n",
              "</table>\n",
              "</div>\n",
              "    <div class=\"colab-df-buttons\">\n",
              "\n",
              "  <div class=\"colab-df-container\">\n",
              "    <button class=\"colab-df-convert\" onclick=\"convertToInteractive('df-0c814ee6-ac73-458e-bca9-2c53e0a882fe')\"\n",
              "            title=\"Convert this dataframe to an interactive table.\"\n",
              "            style=\"display:none;\">\n",
              "\n",
              "  <svg xmlns=\"http://www.w3.org/2000/svg\" height=\"24px\" viewBox=\"0 -960 960 960\">\n",
              "    <path d=\"M120-120v-720h720v720H120Zm60-500h600v-160H180v160Zm220 220h160v-160H400v160Zm0 220h160v-160H400v160ZM180-400h160v-160H180v160Zm440 0h160v-160H620v160ZM180-180h160v-160H180v160Zm440 0h160v-160H620v160Z\"/>\n",
              "  </svg>\n",
              "    </button>\n",
              "\n",
              "  <style>\n",
              "    .colab-df-container {\n",
              "      display:flex;\n",
              "      gap: 12px;\n",
              "    }\n",
              "\n",
              "    .colab-df-convert {\n",
              "      background-color: #E8F0FE;\n",
              "      border: none;\n",
              "      border-radius: 50%;\n",
              "      cursor: pointer;\n",
              "      display: none;\n",
              "      fill: #1967D2;\n",
              "      height: 32px;\n",
              "      padding: 0 0 0 0;\n",
              "      width: 32px;\n",
              "    }\n",
              "\n",
              "    .colab-df-convert:hover {\n",
              "      background-color: #E2EBFA;\n",
              "      box-shadow: 0px 1px 2px rgba(60, 64, 67, 0.3), 0px 1px 3px 1px rgba(60, 64, 67, 0.15);\n",
              "      fill: #174EA6;\n",
              "    }\n",
              "\n",
              "    .colab-df-buttons div {\n",
              "      margin-bottom: 4px;\n",
              "    }\n",
              "\n",
              "    [theme=dark] .colab-df-convert {\n",
              "      background-color: #3B4455;\n",
              "      fill: #D2E3FC;\n",
              "    }\n",
              "\n",
              "    [theme=dark] .colab-df-convert:hover {\n",
              "      background-color: #434B5C;\n",
              "      box-shadow: 0px 1px 3px 1px rgba(0, 0, 0, 0.15);\n",
              "      filter: drop-shadow(0px 1px 2px rgba(0, 0, 0, 0.3));\n",
              "      fill: #FFFFFF;\n",
              "    }\n",
              "  </style>\n",
              "\n",
              "    <script>\n",
              "      const buttonEl =\n",
              "        document.querySelector('#df-0c814ee6-ac73-458e-bca9-2c53e0a882fe button.colab-df-convert');\n",
              "      buttonEl.style.display =\n",
              "        google.colab.kernel.accessAllowed ? 'block' : 'none';\n",
              "\n",
              "      async function convertToInteractive(key) {\n",
              "        const element = document.querySelector('#df-0c814ee6-ac73-458e-bca9-2c53e0a882fe');\n",
              "        const dataTable =\n",
              "          await google.colab.kernel.invokeFunction('convertToInteractive',\n",
              "                                                    [key], {});\n",
              "        if (!dataTable) return;\n",
              "\n",
              "        const docLinkHtml = 'Like what you see? Visit the ' +\n",
              "          '<a target=\"_blank\" href=https://colab.research.google.com/notebooks/data_table.ipynb>data table notebook</a>'\n",
              "          + ' to learn more about interactive tables.';\n",
              "        element.innerHTML = '';\n",
              "        dataTable['output_type'] = 'display_data';\n",
              "        await google.colab.output.renderOutput(dataTable, element);\n",
              "        const docLink = document.createElement('div');\n",
              "        docLink.innerHTML = docLinkHtml;\n",
              "        element.appendChild(docLink);\n",
              "      }\n",
              "    </script>\n",
              "  </div>\n",
              "\n",
              "    </div>\n",
              "  </div>\n"
            ],
            "text/plain": [
              "                                                text most_inner_category  \\\n",
              "0  Castile astea le am de la final de 2021, deci ...       GamingHeadset   \n",
              "\n",
              "   rating       all_categories             type  \n",
              "0       4  experienta;calitate  paseudo-labeled  "
            ]
          },
          "execution_count": 76,
          "metadata": {},
          "output_type": "execute_result"
        }
      ],
      "source": [
        "df_ulbl.head(1)"
      ]
    },
    {
      "cell_type": "markdown",
      "metadata": {
        "id": "6yfYfN-9d0OW"
      },
      "source": [
        "# Utils methods"
      ]
    },
    {
      "cell_type": "markdown",
      "metadata": {
        "id": "uq6PJdZwd4Ri"
      },
      "source": [
        "https://colab.research.google.com/drive/110SZGBXDNT9OpL_T-DddHfy1E6tYHGh3#scrollTo=wRIk4iZOkSp0"
      ]
    },
    {
      "cell_type": "code",
      "execution_count": null,
      "metadata": {
        "colab": {
          "base_uri": "https://localhost:8080/"
        },
        "id": "6BP1lsnqfhBw",
        "outputId": "84438d0a-dd77-4f41-b321-e06721e1431b"
      },
      "outputs": [
        {
          "name": "stderr",
          "output_type": "stream",
          "text": [
            "[nltk_data] Downloading package punkt to /root/nltk_data...\n",
            "[nltk_data]   Package punkt is already up-to-date!\n"
          ]
        },
        {
          "data": {
            "application/vnd.google.colaboratory.intrinsic+json": {
              "type": "string"
            },
            "text/plain": [
              "'!\"#$%&\\'()*+,./:;<=>?@[\\\\]^_`{|}~'"
            ]
          },
          "execution_count": 77,
          "metadata": {},
          "output_type": "execute_result"
        }
      ],
      "source": [
        "from nltk.tokenize import word_tokenize\n",
        "import string\n",
        "\n",
        "nltk.download('punkt')\n",
        "punctuation = string.punctuation\n",
        "punctuation = re.sub('-','',punctuation)\n",
        "punctuation"
      ]
    },
    {
      "cell_type": "code",
      "execution_count": null,
      "metadata": {
        "id": "wUZJtCzgeGAt"
      },
      "outputs": [],
      "source": [
        "def clean_df(df, text_col_name):\n",
        "    df[text_col_name] = df[text_col_name].apply(lambda x: x.lower())\n",
        "    df[text_col_name] = df[text_col_name].apply(lambda x: re.sub(r'\\s([?.!\"](?:\\s|$))', r'\\1', x))\n",
        "    df[text_col_name] = df[text_col_name].apply(lambda x: re.sub(r'(http|https|www)\\S+', ' HTTPURL ', x))\n",
        "    df[text_col_name] = df[text_col_name].apply(lambda x: \" \".join(x.split()))\n",
        "    df[text_col_name] =  config.PROMPT + df[text_col_name] + ' </s>'\n",
        "    return df"
      ]
    },
    {
      "cell_type": "code",
      "execution_count": null,
      "metadata": {
        "id": "F1uBwPr8d184"
      },
      "outputs": [],
      "source": [
        "def clean_predictions(pred):\n",
        "    stop_words = ['the','i','a','or',')','un','o',' ']\n",
        "    # print(pred)\n",
        "    pred = pred.split(';')\n",
        "    pred_new = []\n",
        "    for x in pred:\n",
        "      if x!= ' ':\n",
        "        tokens = word_tokenize(x)\n",
        "        tokens = [t for t in tokens if t.lower() not in stop_words]\n",
        "        tokens = ' '.join(tokens)\n",
        "        tokens = re.sub(r'\\)',' ', tokens)\n",
        "        tokens = re.sub(r'\\(',' ', tokens)\n",
        "        tokens = re.sub(' +', ' ', tokens)\n",
        "        tokens = tokens.translate(str.maketrans('', '', punctuation))\n",
        "        tokens = tokens.strip()\n",
        "        if tokens != ' ':\n",
        "          pred_new.append(tokens.strip())\n",
        "    return pred_new"
      ]
    },
    {
      "cell_type": "code",
      "execution_count": null,
      "metadata": {
        "id": "6eE4I-c2d8CD"
      },
      "outputs": [],
      "source": [
        "def f1(pred, target):\n",
        "  return f1_score(target, pred, average='weighted')\n",
        "\n",
        "def recall(pred, target):\n",
        "  sum = 0\n",
        "  for p in pred:\n",
        "    if p in target:\n",
        "      sum += 1\n",
        "  sum=sum/(len(target))\n",
        "  return sum\n",
        "\n",
        "def remove_repeated_words(text):\n",
        "  words = text.split()\n",
        "  return \" \".join(sorted(set(words), key=words.index))\n",
        "\n",
        "scorer = score.BleurtScorer(config.bleurt_checkpoint)\n",
        "\n",
        "def get_bleurt_score(scorer, preds, target):\n",
        "  scores = scorer.score(references=target, candidates=preds)\n",
        "  return scores"
      ]
    },
    {
      "cell_type": "code",
      "execution_count": null,
      "metadata": {
        "id": "UmfmKKmkYpsR"
      },
      "outputs": [],
      "source": [
        "def format_time(elapsed):\n",
        "    '''\n",
        "    Takes a time in seconds and returns a string hh:mm:ss\n",
        "    '''\n",
        "    elapsed_rounded = int(round((elapsed)))\n",
        "    return str(datetime.timedelta(seconds=elapsed_rounded))"
      ]
    },
    {
      "cell_type": "code",
      "execution_count": null,
      "metadata": {
        "id": "kVCkbiNfHz9Y"
      },
      "outputs": [],
      "source": [
        "def tokenize_function(text, tokenizer, max_len):\n",
        "  encoded_dict = tokenizer.encode_plus(\n",
        "                text,\n",
        "                add_special_tokens=True,\n",
        "                max_length=max_len,\n",
        "                truncation=True,\n",
        "                padding='max_length',\n",
        "                return_attention_mask=True,\n",
        "                return_tensors='pt'\n",
        "            )\n",
        "  return encoded_dict['input_ids'], encoded_dict['attention_mask']"
      ]
    },
    {
      "cell_type": "code",
      "execution_count": null,
      "metadata": {
        "id": "0jHryIYHH2bM"
      },
      "outputs": [],
      "source": [
        "def tokenize_batch(tokenizer,batch, max_len):\n",
        "  encoded_dict = tokenizer.batch_encode_plus(\n",
        "              batch,\n",
        "              add_special_tokens=True,\n",
        "              max_length=max_len,\n",
        "              truncation=True,\n",
        "              padding='max_length',\n",
        "              return_attention_mask=True,\n",
        "              return_tensors='pt'\n",
        "          )\n",
        "  return encoded_dict['input_ids'], encoded_dict['attention_mask']"
      ]
    },
    {
      "cell_type": "code",
      "execution_count": null,
      "metadata": {
        "id": "vrWNWd0AN_Td"
      },
      "outputs": [],
      "source": [
        "def tokenize_df(df, col_name, tokenizer):\n",
        "  if col_name=='text':\n",
        "    df['inputs_ids'], df['source_attention_mask'] = zip(* df.apply(lambda x: tokenize_function(x[col_name],\n",
        "                                                                                              tokenizer,\n",
        "                                                                                              config.MAX_SOURCE_LEN),\n",
        "                                                                                              axis=1))\n",
        "  elif col_name=='all_categories':\n",
        "    df['lm_labels'], df['labels_attention_mask'] = zip(* df.apply(lambda x: tokenize_function(x[col_name],\n",
        "                                                                                              tokenizer,\n",
        "                                                                                              config.MAX_TARGET_LEN),\n",
        "                                                                                              axis=1))\n",
        "  return df"
      ]
    },
    {
      "cell_type": "markdown",
      "metadata": {
        "id": "SGe4Wrd8hBYv"
      },
      "source": [
        "# Dataset Class"
      ]
    },
    {
      "cell_type": "code",
      "execution_count": null,
      "metadata": {
        "id": "rxJCdM0chCYG"
      },
      "outputs": [],
      "source": [
        "class ATEDataset(torch.utils.data.Dataset):\n",
        "    def __init__(self, df):\n",
        "        self.df = df\n",
        "\n",
        "    def __len__(self):\n",
        "        return len(self.df)\n",
        "\n",
        "    def __getitem__(self, idx):\n",
        "        item = self.df.iloc[idx]\n",
        "        text = item['text']\n",
        "        target = item['all_categories']\n",
        "\n",
        "        was_labeled = True\n",
        "        if item['type']=='paseudo-labeled':\n",
        "          was_labeled=False\n",
        "\n",
        "        if 'inputs_ids' in item.keys() and 'source_attention_mask' in item.keys() and 'lm_labels' in item.keys() and 'labels_attention_mask' in item.keys():\n",
        "          return {\n",
        "              'text': text,\n",
        "              'target': target,\n",
        "              'was_labeled':was_labeled,\n",
        "              'inputs_ids' : torch.tensor(item['inputs_ids']).squeeze().to(config.DEVICE, dtype=torch.long),\n",
        "              'source_attention_mask' : torch.tensor(item['source_attention_mask']).squeeze().to(config.DEVICE,dtype = torch.long),\n",
        "              'lm_labels' : torch.tensor(item['lm_labels']).squeeze().to(config.DEVICE, dtype=torch.long),\n",
        "              'labels_attention_mask' : torch.tensor(item['labels_attention_mask']).squeeze().to(config.DEVICE,dtype = torch.long),\n",
        "          }\n",
        "\n",
        "        elif 'inputs_ids' in item.keys() and 'source_attention_mask' in item.keys():\n",
        "          return {\n",
        "              'text': text,\n",
        "              'target': target,\n",
        "              'was_labeled':was_labeled,\n",
        "              'inputs_ids' : torch.tensor(item['inputs_ids']).squeeze().to(config.DEVICE, dtype=torch.long),\n",
        "              'source_attention_mask' : torch.tensor(item['source_attention_mask']).squeeze().to(config.DEVICE,dtype = torch.long),\n",
        "          }\n",
        "        else:\n",
        "          return {\n",
        "              'text': text,\n",
        "              'target': target,\n",
        "              'was_labeled':was_labeled,\n",
        "            }"
      ]
    },
    {
      "cell_type": "markdown",
      "metadata": {
        "id": "xM-u7o7KsyCG"
      },
      "source": [
        "# Target based student teacher framework"
      ]
    },
    {
      "cell_type": "markdown",
      "metadata": {
        "id": "_StAP3vcl2kq"
      },
      "source": [
        "![image.png](data:image/png;base64,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)"
      ]
    },
    {
      "cell_type": "markdown",
      "metadata": {
        "id": "EDR1lKYXSIjY"
      },
      "source": [
        "#Map psedo-labels on dataset - functions"
      ]
    },
    {
      "cell_type": "code",
      "execution_count": null,
      "metadata": {
        "id": "FXK-oaVyImoD"
      },
      "outputs": [],
      "source": [
        "def map_label(row, predictions_df):\n",
        "  row_map = predictions_df[predictions_df['text']==row['text']]\n",
        "  if len(row_map)>1:\n",
        "    row_map=row_map.iloc[0:1]\n",
        "\n",
        "  row_index = row_map.index[0]\n",
        "  if row_map.at[row_index, 'category'] == 'no':\n",
        "    if type(row['all_categories'])==str:\n",
        "      label = row['all_categories']\n",
        "    else:\n",
        "      label = row['all_categories'].values[0]\n",
        "    is_confident=False\n",
        "  else:\n",
        "    if type(row_map.at[row_index, 'category']) == str:\n",
        "      label = row_map.at[row_index, 'category']\n",
        "    else:\n",
        "      label = row_map.at[row_index, 'category'].values[0]\n",
        "    is_confident=True\n",
        "  return label, is_confident\n",
        "\n",
        "\n",
        "def update_dataframe_with_pseudolabels(df, predictions_paired):\n",
        "  predictions_df = pd.DataFrame(predictions_paired, columns=['text','category'])\n",
        "  df['is_confident'] = ''\n",
        "  df['all_categories'], df['is_confident'] =zip(* df.apply(lambda x: map_label(x, predictions_df),axis=1))\n",
        "  df.drop_duplicates(subset=[\"text\"], inplace=True)\n",
        "  return df\n"
      ]
    },
    {
      "cell_type": "markdown",
      "metadata": {
        "id": "7RZA1Ah2q6Ib"
      },
      "source": [
        "# Train a student model un the pseudo-labeled + labeled data"
      ]
    },
    {
      "cell_type": "markdown",
      "metadata": {
        "id": "1Uz_82wzJovZ"
      },
      "source": [
        "- We train a student model on the labeled and pseudo-labeled data\n",
        "\n",
        "- Last, we make the student model as the new teacher model and iterate by assigning new pseudo-labels on the unlabeled data until convergence.\n",
        "\n",
        "- WE WILL EXPERIMENT WITH DIFFERENT STUDENT MODELS: mt5, flan"
      ]
    },
    {
      "cell_type": "markdown",
      "metadata": {
        "id": "77A70yNdpj_5"
      },
      "source": [
        "## load model function"
      ]
    },
    {
      "cell_type": "code",
      "execution_count": null,
      "metadata": {
        "colab": {
          "base_uri": "https://localhost:8080/"
        },
        "id": "3jvRPc19J8HR",
        "outputId": "02d04f80-0f8b-417e-b118-b6c1487511ab"
      },
      "outputs": [
        {
          "data": {
            "text/plain": [
              "('google/mt5-base',\n",
              " '/content/gdrive/MyDrive/Colab Notebooks/cercetare ABSA/models/ate_enroaug_cat_v6.pt')"
            ]
          },
          "execution_count": 87,
          "metadata": {},
          "output_type": "execute_result"
        }
      ],
      "source": [
        "config.PRE_TRAINED_TOKENIZER_NAME, config.MODEL_ATE_PATH"
      ]
    },
    {
      "cell_type": "code",
      "execution_count": null,
      "metadata": {
        "colab": {
          "base_uri": "https://localhost:8080/",
          "height": 182,
          "referenced_widgets": [
            "92f044fdf4254fe39ddda17c869af09f",
            "8cf10348a4d7448d850e2e958049a8ef",
            "812c6516f4604cebbe961c23c2b8ee32",
            "56e4d13de79542f18fe9cdb24aa48122"
          ]
        },
        "id": "z7ohjM2FAi-D",
        "outputId": "fb2a64e9-fe2a-4e25-9d5a-e407c0863b7f"
      },
      "outputs": [
        {
          "data": {
            "application/vnd.jupyter.widget-view+json": {
              "model_id": "92f044fdf4254fe39ddda17c869af09f",
              "version_major": 2,
              "version_minor": 0
            },
            "text/plain": [
              "tokenizer_config.json:   0%|          | 0.00/376 [00:00<?, ?B/s]"
            ]
          },
          "metadata": {},
          "output_type": "display_data"
        },
        {
          "data": {
            "application/vnd.jupyter.widget-view+json": {
              "model_id": "8cf10348a4d7448d850e2e958049a8ef",
              "version_major": 2,
              "version_minor": 0
            },
            "text/plain": [
              "config.json:   0%|          | 0.00/702 [00:00<?, ?B/s]"
            ]
          },
          "metadata": {},
          "output_type": "display_data"
        },
        {
          "data": {
            "application/vnd.jupyter.widget-view+json": {
              "model_id": "812c6516f4604cebbe961c23c2b8ee32",
              "version_major": 2,
              "version_minor": 0
            },
            "text/plain": [
              "spiece.model:   0%|          | 0.00/4.31M [00:00<?, ?B/s]"
            ]
          },
          "metadata": {},
          "output_type": "display_data"
        },
        {
          "data": {
            "application/vnd.jupyter.widget-view+json": {
              "model_id": "56e4d13de79542f18fe9cdb24aa48122",
              "version_major": 2,
              "version_minor": 0
            },
            "text/plain": [
              "special_tokens_map.json:   0%|          | 0.00/65.0 [00:00<?, ?B/s]"
            ]
          },
          "metadata": {},
          "output_type": "display_data"
        },
        {
          "name": "stderr",
          "output_type": "stream",
          "text": [
            "You are using the default legacy behaviour of the <class 'transformers.models.t5.tokenization_t5.T5Tokenizer'>. This is expected, and simply means that the `legacy` (previous) behavior will be used so nothing changes for you. If you want to use the new behaviour, set `legacy=False`. This should only be set if you understand what it means, and thouroughly read the reason why this was added as explained in https://github.com/huggingface/transformers/pull/24565\n"
          ]
        }
      ],
      "source": [
        "tokenizer = AutoTokenizer.from_pretrained(config.PRE_TRAINED_TOKENIZER_NAME)"
      ]
    },
    {
      "cell_type": "code",
      "execution_count": null,
      "metadata": {
        "id": "Kg-n7RAgVCGe"
      },
      "outputs": [],
      "source": [
        "def load_model(type):\n",
        "  if type=='student':\n",
        "    model = MT5ForConditionalGeneration.from_pretrained(config.MODEL_BASE)\n",
        "    model = model.to(config.DEVICE)\n",
        "  else:\n",
        "    model = T5ForConditionalGeneration.from_pretrained(config.MODEL_ATE_PATH)\n",
        "    model = model.to(config.DEVICE)\n",
        "  return model\n"
      ]
    },
    {
      "cell_type": "markdown",
      "metadata": {
        "id": "xeYbDpCju7R4"
      },
      "source": [
        "## data prep - df & df_test_final (from lbl data)"
      ]
    },
    {
      "cell_type": "code",
      "execution_count": null,
      "metadata": {
        "id": "wc3e6FtUMD7_"
      },
      "outputs": [],
      "source": [
        "# df_lbl = df_lbl[:100]\n",
        "# df_ulbl = df_ulbl[:100]\n",
        "df_lbl, df_test_final = train_test_split(df_lbl, test_size=0.2, random_state=42)"
      ]
    },
    {
      "cell_type": "code",
      "execution_count": null,
      "metadata": {
        "id": "WgHASyjtAr7L"
      },
      "outputs": [],
      "source": [
        "df = pd.concat([df_lbl[['text','all_categories','type']],df_ulbl[['text','all_categories','type']]], axis=0, ignore_index=True)"
      ]
    },
    {
      "cell_type": "code",
      "execution_count": null,
      "metadata": {
        "id": "CnewCR5TuUcs"
      },
      "outputs": [],
      "source": [
        "df = clean_df(df,'text')\n",
        "df_test_final = clean_df(df_test_final,'text')"
      ]
    },
    {
      "cell_type": "code",
      "execution_count": null,
      "metadata": {
        "colab": {
          "base_uri": "https://localhost:8080/"
        },
        "id": "sllc2RgfUIdN",
        "outputId": "99f544d8-dd3d-46ab-bf98-9db9c2d997c4"
      },
      "outputs": [
        {
          "data": {
            "text/plain": [
              "(16742, 200)"
            ]
          },
          "execution_count": 95,
          "metadata": {},
          "output_type": "execute_result"
        }
      ],
      "source": [
        "len(df), len(df_test_final)"
      ]
    },
    {
      "cell_type": "code",
      "execution_count": null,
      "metadata": {
        "id": "fDu_qRbDzb4g"
      },
      "outputs": [],
      "source": [
        "df = tokenize_df(df,'text', tokenizer)\n",
        "df_test_final = tokenize_df(df_test_final,'text', tokenizer)"
      ]
    },
    {
      "cell_type": "markdown",
      "metadata": {
        "id": "CGNrIDavhUN7"
      },
      "source": [
        "## Remove longer reviews"
      ]
    },
    {
      "cell_type": "code",
      "execution_count": null,
      "metadata": {
        "colab": {
          "base_uri": "https://localhost:8080/"
        },
        "id": "4iX9196Dh0Nl",
        "outputId": "aa5761b8-7bd9-4987-c5f7-3532b5c8ef9e"
      },
      "outputs": [
        {
          "data": {
            "text/plain": [
              "512"
            ]
          },
          "execution_count": 97,
          "metadata": {},
          "output_type": "execute_result"
        }
      ],
      "source": [
        "config.MAX_SOURCE_LEN"
      ]
    },
    {
      "cell_type": "code",
      "execution_count": null,
      "metadata": {
        "colab": {
          "base_uri": "https://localhost:8080/"
        },
        "id": "298YlX-whZYA",
        "outputId": "fe40dae4-b526-4c3f-ea04-25481f74584f"
      },
      "outputs": [
        {
          "data": {
            "text/plain": [
              "15843"
            ]
          },
          "execution_count": 98,
          "metadata": {},
          "output_type": "execute_result"
        }
      ],
      "source": [
        "lengths = [len(tokenizer.encode(text)) for text in list(df['text'].values)]\n",
        "df['text_len']=lengths\n",
        "\n",
        "df_new = df[(df['text_len']<config.MAX_SOURCE_LEN) & (df['type']=='paseudo-labeled')]\n",
        "len(df_new)"
      ]
    },
    {
      "cell_type": "code",
      "execution_count": null,
      "metadata": {
        "colab": {
          "base_uri": "https://localhost:8080/"
        },
        "id": "Gc345l1liQ7k",
        "outputId": "2c48d7be-ea9e-4cae-8cae-eb7260a09d32"
      },
      "outputs": [
        {
          "data": {
            "text/plain": [
              "918"
            ]
          },
          "execution_count": 99,
          "metadata": {},
          "output_type": "execute_result"
        }
      ],
      "source": [
        "16742-15824"
      ]
    },
    {
      "cell_type": "markdown",
      "metadata": {
        "id": "2GKpuRJMU6st"
      },
      "source": [
        "## get dataloder function"
      ]
    },
    {
      "cell_type": "code",
      "execution_count": null,
      "metadata": {
        "id": "ts34wLt1SBBQ"
      },
      "outputs": [],
      "source": [
        "def get_dataloader(df, batch_size):\n",
        "  ds = ATEDataset(df)\n",
        "  dl = DataLoader(ds, batch_size=batch_size, shuffle=True)\n",
        "  return dl"
      ]
    },
    {
      "cell_type": "markdown",
      "metadata": {
        "id": "tHhLrwk0dQxz"
      },
      "source": [
        "## hyperparam functions"
      ]
    },
    {
      "cell_type": "code",
      "execution_count": null,
      "metadata": {
        "id": "X2mfNZX4dgHm"
      },
      "outputs": [],
      "source": [
        "def initialize_parameters(model, dataloader, optimizer_name, idx_lr):\n",
        "  total_steps = len(dataloader) * config.EPOCHS\n",
        "\n",
        "  if optimizer_name=='adam':\n",
        "    optimizer = AdamW(model.parameters(), lr=config.LR[idx_lr], eps=config.EPS, correct_bias=False, no_deprecation_warning=True)\n",
        "    scheduler = get_linear_schedule_with_warmup(optimizer, num_warmup_steps=0, num_training_steps=total_steps)\n",
        "\n",
        "  elif optimizer_name=='ada':\n",
        "    # optimizer = Adafactor(model.parameters(), scale_parameter=True, relative_step=True, warmup_init=True, lr=config.LEARNING_RATE[idx_lr], clip_threshold=1.0)  # noqa: E501\n",
        "    optimizer = Adafactor(model.parameters(), relative_step=True, warmup_init=True, lr=None, clip_threshold=1.0)  # noqa: E501\n",
        "    scheduler = AdafactorSchedule(optimizer)\n",
        "\n",
        "  autoconfig = AutoConfig.from_pretrained(config.MODEL_BASE)\n",
        "  return optimizer, scheduler, autoconfig\n"
      ]
    },
    {
      "cell_type": "markdown",
      "metadata": {
        "id": "hSJdHMIfzhBm"
      },
      "source": [
        "## eval"
      ]
    },
    {
      "cell_type": "code",
      "execution_count": null,
      "metadata": {
        "id": "IP6ah9DiylDR"
      },
      "outputs": [],
      "source": [
        "def eval(model, df_val):\n",
        "  dataloader = get_dataloader(df_val, config.BATCH_SIZE_TRAIN_LBL)\n",
        "\n",
        "  model.eval()\n",
        "  total_loss = 0\n",
        "  total_f1 = 0\n",
        "  recalls = []\n",
        "\n",
        "  for step, batch in tqdm(enumerate(dataloader)):\n",
        "\n",
        "    input_ids = batch['inputs_ids'].to(config.DEVICE)\n",
        "    att_mask = batch['source_attention_mask'].to(config.DEVICE)\n",
        "    labels = batch['lm_labels'].to(config.DEVICE)\n",
        "    labels[labels == tokenizer.pad_token_id] = -100\n",
        "\n",
        "    with torch.no_grad():\n",
        "      generated_ids = model.generate(\n",
        "                    input_ids=input_ids,\n",
        "                    attention_mask=att_mask,\n",
        "                    temperature=0.7,    # 0.6\n",
        "                    use_cache=True,\n",
        "                    penalty_alpha=1.1,  # 1.1\n",
        "                    num_beams=5,\n",
        "                    do_sample=True,\n",
        "                    no_repeat_ngram_size=1,\n",
        "                    num_return_sequences=1,\n",
        "                    max_length=config.MAX_TARGET_LEN\n",
        "                    )\n",
        "      model_out = model(input_ids=input_ids, attention_mask=att_mask, labels=labels)\n",
        "\n",
        "    loss = model_out.loss\n",
        "    total_loss += loss.item()\n",
        "\n",
        "    preds = [tokenizer.decode(g, skip_special_tokens=True, clean_up_tokenization_spaces=True) for g in generated_ids]\n",
        "    ground_truth = batch['target']\n",
        "\n",
        "    preds_cleaned = [clean_predictions(p) for p in preds]\n",
        "    target_cleaned = [clean_predictions(t) for t in ground_truth]\n",
        "\n",
        "    recalls_current = [recall(preds_cleaned[idx],target_cleaned[idx]) for idx in range(0,len(ground_truth))]\n",
        "\n",
        "    preds_cleaned_combined = [' and '.join(e) for e in preds_cleaned]\n",
        "    targets_cleaned_combined = [' and '.join(t) for t in target_cleaned]\n",
        "\n",
        "    f1_result = f1(preds_cleaned_combined, targets_cleaned_combined)\n",
        "\n",
        "    total_f1 += f1_result\n",
        "    recalls.extend(recalls_current)\n",
        "\n",
        "    if step % 200 == 0 and not step == 0:\n",
        "      print('\\n  Batch {:>5,}  of  {:>5,}.'.format(step, len(dataloader)))\n",
        "      print('Ground truth:\\n', ground_truth)\n",
        "      print('Clean predictions generated:\\n', preds_cleaned)\n",
        "      print('F1:', f1_result)\n",
        "      print('Recall:', recalls_current)\n",
        "      print('')\n",
        "\n",
        "    del input_ids, att_mask, labels, generated_ids, model_out\n",
        "\n",
        "  avg_f1 = total_f1 / len(dataloader)\n",
        "  avg_loss = total_loss / len(dataloader)\n",
        "  avg_recall = np.mean(recalls)\n",
        "\n",
        "  print(\"\")\n",
        "  print(\"Evaluation Summary Results\")\n",
        "  print(\"val loss | val f1 | val recall \")\n",
        "  print(f\"{avg_loss:.4f}     {avg_f1:.4f}   {avg_recall:.4f}\")\n",
        "\n",
        "  del dataloader, model\n",
        "  return avg_loss, avg_f1, avg_recall"
      ]
    },
    {
      "cell_type": "markdown",
      "metadata": {
        "id": "meTa34LAzilb"
      },
      "source": [
        "## train one epoch"
      ]
    },
    {
      "cell_type": "code",
      "execution_count": null,
      "metadata": {
        "id": "KQcYja8Pv_NV"
      },
      "outputs": [],
      "source": [
        "def filter_batch(batch):\n",
        "  lbl_indices = (batch['was_labeled'] == True).nonzero(as_tuple=True)\n",
        "  ulbl_indices = (batch['was_labeled'] == False).nonzero(as_tuple=True)\n",
        "\n",
        "  input_ids = batch['inputs_ids']\n",
        "  att_mask = batch['source_attention_mask']\n",
        "  labels = batch['lm_labels']\n",
        "  labels[labels == tokenizer.pad_token_id] = -100\n",
        "\n",
        "  input_ids_lbl = input_ids[lbl_indices].to(config.DEVICE)\n",
        "  input_ids_ulbl = input_ids[ulbl_indices].to(config.DEVICE)\n",
        "  att_mask_lbl = att_mask[lbl_indices].to(config.DEVICE)\n",
        "  att_mask_ulbl = att_mask[ulbl_indices].to(config.DEVICE)\n",
        "  labels_lbl = labels[lbl_indices].to(config.DEVICE)\n",
        "  labels_ulbl = labels[ulbl_indices].to(config.DEVICE)\n",
        "\n",
        "  del input_ids, att_mask, labels, lbl_indices, ulbl_indices\n",
        "\n",
        "  return input_ids_lbl,input_ids_ulbl, att_mask_lbl, att_mask_ulbl, labels_lbl, labels_ulbl"
      ]
    },
    {
      "cell_type": "code",
      "execution_count": null,
      "metadata": {
        "id": "boA41GjjiOgS"
      },
      "outputs": [],
      "source": [
        "def train_one_epoch(model_student, train_dataloader, optimizer, scheduler, criterion_lbl, criterion_ulbl, epoch, loss_weight):\n",
        "\n",
        "    total_t0 = time.time()\n",
        "    print(\"\")\n",
        "    print('======== Epoch {:} / {:} ========'.format(epoch + 1, config.EPOCHS))\n",
        "    print('Training...')\n",
        "\n",
        "\n",
        "    train_total_loss = 0\n",
        "    model_student.train()\n",
        "\n",
        "    for step, batch in tqdm(enumerate(train_dataloader)):\n",
        "\n",
        "        # if step % 40 == 0 and not step == 0:\n",
        "        #     print('  Batch {:>5,}  of  {:>5,}.'.format(step, len(train_dataloader)))\n",
        "\n",
        "        input_ids_lbl, input_ids_ulbl, att_mask_lbl, att_mask_ulbl, labels_lbl, labels_ulbl = filter_batch(batch)\n",
        "\n",
        "        optimizer.zero_grad()\n",
        "\n",
        "        if len(input_ids_lbl)>0:\n",
        "          out_lbl = model_student(input_ids=input_ids_lbl,\n",
        "                              attention_mask=att_mask_lbl,\n",
        "                              labels=labels_lbl)\n",
        "          loss_sup = criterion_lbl(out_lbl.logits.view(-1, out_lbl.logits.size(-1)), labels_lbl.view(-1))\n",
        "        else:\n",
        "          loss_sup=torch.zeros([1,1], device=config.DEVICE)\n",
        "\n",
        "        if len(input_ids_ulbl)>0:\n",
        "          out_ulbl = model_student(input_ids=input_ids_ulbl,\n",
        "                              attention_mask=att_mask_ulbl,\n",
        "                              labels=labels_ulbl)\n",
        "\n",
        "          loss_unsup = criterion_ulbl(out_ulbl.logits.view(-1, out_ulbl.logits.size(-1)), labels_ulbl.view(-1))\n",
        "        else:\n",
        "          loss_unsup=torch.zeros([1,1], device=config.DEVICE)\n",
        "\n",
        "        loss_agg = loss_weight * loss_sup  + (1-loss_weight) * torch.mean(loss_unsup)\n",
        "        train_total_loss += loss_agg.item()\n",
        "\n",
        "        loss_agg.backward()\n",
        "\n",
        "        optimizer.step()\n",
        "        torch.nn.utils.clip_grad_norm_(model_student.parameters(), 1.0)\n",
        "\n",
        "        del input_ids_lbl, input_ids_ulbl, att_mask_lbl, att_mask_ulbl, labels_lbl, labels_ulbl\n",
        "\n",
        "    avg_train_loss = train_total_loss / len(train_dataloader)\n",
        "\n",
        "    training_time = format_time(time.time() - total_t0)\n",
        "\n",
        "    print(\"\")\n",
        "    print(\"summary results\")\n",
        "    print(\"epoch | train loss | train time \")\n",
        "    print(f\"{epoch+1:5d} |  {avg_train_loss:.5f}  |  {training_time:}\")\n",
        "\n",
        "    return model_student, avg_train_loss, optimizer, scheduler, criterion_lbl, criterion_ulbl\n"
      ]
    },
    {
      "cell_type": "markdown",
      "metadata": {
        "id": "RvyuhNsJzev5"
      },
      "source": [
        "## train loop"
      ]
    },
    {
      "cell_type": "code",
      "execution_count": null,
      "metadata": {
        "id": "qgezkWdElDFF"
      },
      "outputs": [],
      "source": [
        "def train_loop(model, df_train, df_val, loss_weight):\n",
        "  best_model = model\n",
        "  best_loss = float('-inf')\n",
        "  best_f1 = 0\n",
        "\n",
        "  train_dataloader = get_dataloader(df_train, config.BATCH_SIZE_TRAIN_LBL)\n",
        "\n",
        "  criterion_lbl = nn.CrossEntropyLoss(ignore_index=-100, reduction='mean')\n",
        "  criterion_ulbl = nn.CrossEntropyLoss(ignore_index=-100, reduction='none')\n",
        "  optimizer, scheduler, autoconfig = initialize_parameters(model, train_dataloader, 'adam', 0)\n",
        "\n",
        "  for epoch in range(config.EPOCHS):\n",
        "    model, train_loss, optimizer, scheduler, criterion_lbl, criterion_ulbl = train_one_epoch(model, train_dataloader, optimizer, scheduler,criterion_lbl,criterion_ulbl, epoch, loss_weight)\n",
        "    wandb.log({\"Train Loss/Epoch\":train_loss, \"LR\": optimizer.param_groups[-1]['lr']})\n",
        "\n",
        "    eval_loss, eval_f1, eval_recalls = eval(model, df_val)\n",
        "    wandb.log({\"Eval Loss/Epoch\":eval_loss, \"Eval F1/Epoch\":eval_f1, \"Eval Recall/Epoch\":eval_recalls})\n",
        "\n",
        "    if eval_loss < best_loss:\n",
        "      best_loss = eval_loss\n",
        "      best_model = model\n",
        "      best_f1 = eval_f1\n",
        "\n",
        "  del train_dataloader, optimizer, scheduler, autoconfig, model, criterion_lbl, criterion_ulbl\n",
        "  return best_model, best_loss, best_f1"
      ]
    },
    {
      "cell_type": "markdown",
      "metadata": {
        "id": "kVjFKDtvvGHW"
      },
      "source": [
        "## Utils functions for labels"
      ]
    },
    {
      "cell_type": "markdown",
      "metadata": {
        "id": "dosuzh7mNPC7"
      },
      "source": [
        "\n",
        "To implement a confidence threshold for the T5 model's predictions, you need to calculate the confidence of the model in its output. In the case of T5 and similar sequence-to-sequence models, this is not as straightforward as models that output a single class with a probability distribution, because the output is a sequence of tokens."
      ]
    },
    {
      "cell_type": "markdown",
      "metadata": {
        "id": "mGyBGiIMOOGz"
      },
      "source": [
        "We can  measure the difference between the log probabilities of the generated tokens and the log probabilities of the ground truth tokens. This comparison can provide insights into how well the model's predictions align with the actual (ground truth) data. This difference is essentially a measure of the model's prediction error in terms of probability."
      ]
    },
    {
      "cell_type": "code",
      "execution_count": null,
      "metadata": {
        "id": "LHelAz1dvFlH"
      },
      "outputs": [],
      "source": [
        "def calculate_confidence_average(tokenizer, generated_outputs, model_output):\n",
        "  log_probs = torch.nn.functional.log_softmax(model_output.logits, dim=-1)\n",
        "  token_confidences = log_probs.gather(2, generated_outputs.unsqueeze(-1)).squeeze(-1)\n",
        "\n",
        "  mask = (generated_outputs != tokenizer.pad_token_id) & (generated_outputs != tokenizer.eos_token_id) & (generated_outputs != tokenizer.bos_token_id)\n",
        "  masked_confidences = token_confidences * mask\n",
        "  avg_confidence = masked_confidences.sum(dim=1) / mask.sum(dim=1)\n",
        "  return avg_confidence"
      ]
    },
    {
      "cell_type": "code",
      "execution_count": null,
      "metadata": {
        "id": "hCfulX9Wve3y"
      },
      "outputs": [],
      "source": [
        "def calculate_confidence_logprob_diff(model, model_outputs, generated_tokens, ground_truth_tokens):\n",
        "\n",
        "  # Compute log probabilities\n",
        "  log_probs = torch.nn.functional.log_softmax(model_outputs.logits, dim=-1)\n",
        "\n",
        "  # Gather log probabilities for generated and ground truth tokens\n",
        "  gen_log_probs = log_probs.gather(2, generated_tokens.unsqueeze(-1)).squeeze(-1)\n",
        "  gt_log_probs = log_probs.gather(2, ground_truth_tokens.unsqueeze(-1)).squeeze(-1)\n",
        "\n",
        "  # Calculate the difference between generated tokens and ground truth tokens\n",
        "  diff = (gen_log_probs - gt_log_probs).abs().mean()\n",
        "  return diff\n",
        "\n",
        "\n",
        "def generate_pslabels_with_confidence(teacher_model, df_ulbl, tokenizer, confidence_threshold, method):\n",
        "  teacher_model.eval()\n",
        "  pseudo_labels = []\n",
        "\n",
        "  for idx, row in df_ulbl.iterrows():\n",
        "    input_ids = torch.tensor(row['inputs_ids']).to(config.DEVICE,dtype = torch.long)\n",
        "    src_att_mask = torch.tensor(row['source_attention_mask']).to(config.DEVICE,dtype = torch.long)\n",
        "\n",
        "    with torch.no_grad():\n",
        "      model_out = teacher_model(input_ids=input_ids,attention_mask=src_att_mask, labels=input_ids)\n",
        "      generated_outputs = teacher_model.generate(\n",
        "                                                input_ids=input_ids,\n",
        "                                                attention_mask=src_att_mask,\n",
        "                                                temperature=0.7,\n",
        "                                                use_cache=True,\n",
        "                                                penalty_alpha=1.1,\n",
        "                                                num_beams=10,\n",
        "                                                do_sample=True,\n",
        "                                                no_repeat_ngram_size=1,\n",
        "                                                num_return_sequences=1,\n",
        "                                                max_length=config.MAX_TARGET_LEN,\n",
        "                                                )\n",
        "      generated_tokens = generated_outputs[0]\n",
        "\n",
        "    if method=='average':\n",
        "      confidence = calculate_confidence_average(tokenizer, generated_outputs, model_out).item()\n",
        "      if confidence >= confidence_threshold:\n",
        "        prediction = tokenizer.decode(generated_outputs[0], skip_special_tokens=True)\n",
        "        pseudo_labels.append((row['text'], prediction))\n",
        "\n",
        "    elif method=='log_prob_diff':\n",
        "      prediction = tokenizer.decode(generated_outputs[0], skip_special_tokens=True)\n",
        "      prediction_ids, _ = tokenize_function(prediction, tokenizer, config.MAX_TARGET_LEN)\n",
        "      prediction_ids = prediction_ids.to(config.DEVICE)\n",
        "\n",
        "      ground_truth_tokens, _ = tokenize_function(row['all_categories'], tokenizer, config.MAX_TARGET_LEN)\n",
        "      ground_truth_tokens = ground_truth_tokens.to(config.DEVICE)\n",
        "\n",
        "      confidence = calculate_confidence_logprob_diff(teacher_model, model_out, prediction_ids, ground_truth_tokens).item()  #the difference should be very low\n",
        "\n",
        "      if confidence <= confidence_threshold:\n",
        "        pseudo_labels.append((row['text'], prediction))\n",
        "        if idx%400==0 and idx!=0:\n",
        "          print(f'{prediction=} [{confidence=}]')\n",
        "      else:\n",
        "        pseudo_labels.append((row['text'], 'no'))\n",
        "  return pseudo_labels"
      ]
    },
    {
      "cell_type": "markdown",
      "metadata": {
        "id": "OC5fnIIBiILq"
      },
      "source": [
        "## iterative process for student"
      ]
    },
    {
      "cell_type": "code",
      "execution_count": null,
      "metadata": {
        "colab": {
          "base_uri": "https://localhost:8080/"
        },
        "id": "AfMrMy9w14Xt",
        "outputId": "7f9edf6a-7fde-479a-a573-d77b9956521b"
      },
      "outputs": [
        {
          "data": {
            "text/plain": [
              "(array([0.5, 0.3, 0.3]), 3)"
            ]
          },
          "execution_count": 110,
          "metadata": {},
          "output_type": "execute_result"
        }
      ],
      "source": [
        "# Define a range of confidence thresholds to test\n",
        "confidence_thresholds = np.linspace(0.5, 0.3, 2)\n",
        "confidence_thresholds = np.append(confidence_thresholds, confidence_thresholds[-1])\n",
        "confidence_thresholds, len(confidence_thresholds)"
      ]
    },
    {
      "cell_type": "code",
      "execution_count": null,
      "metadata": {
        "colab": {
          "base_uri": "https://localhost:8080/",
          "height": 524
        },
        "id": "aGVZ0aMppEHq",
        "outputId": "b572a95e-23dc-45bf-f289-e7b3598cfa8e"
      },
      "outputs": [
        {
          "data": {
            "text/html": [
              "Tracking run with wandb version 0.16.2"
            ],
            "text/plain": [
              "<IPython.core.display.HTML object>"
            ]
          },
          "metadata": {},
          "output_type": "display_data"
        },
        {
          "data": {
            "text/html": [
              "Run data is saved locally in <code>/content/wandb/run-20240124_230052-o9ssfvps</code>"
            ],
            "text/plain": [
              "<IPython.core.display.HTML object>"
            ]
          },
          "metadata": {},
          "output_type": "display_data"
        },
        {
          "data": {
            "text/html": [
              "Syncing run <strong><a href='https://wandb.ai/alina0195/ssl_ro/runs/o9ssfvps' target=\"_blank\">v5_mt5</a></strong> to <a href='https://wandb.ai/alina0195/ssl_ro' target=\"_blank\">Weights & Biases</a> (<a href='https://wandb.me/run' target=\"_blank\">docs</a>)<br/>"
            ],
            "text/plain": [
              "<IPython.core.display.HTML object>"
            ]
          },
          "metadata": {},
          "output_type": "display_data"
        },
        {
          "data": {
            "text/html": [
              " View project at <a href='https://wandb.ai/alina0195/ssl_ro' target=\"_blank\">https://wandb.ai/alina0195/ssl_ro</a>"
            ],
            "text/plain": [
              "<IPython.core.display.HTML object>"
            ]
          },
          "metadata": {},
          "output_type": "display_data"
        },
        {
          "data": {
            "text/html": [
              " View run at <a href='https://wandb.ai/alina0195/ssl_ro/runs/o9ssfvps' target=\"_blank\">https://wandb.ai/alina0195/ssl_ro/runs/o9ssfvps</a>"
            ],
            "text/plain": [
              "<IPython.core.display.HTML object>"
            ]
          },
          "metadata": {},
          "output_type": "display_data"
        },
        {
          "data": {
            "text/html": [
              "<button onClick=\"this.nextSibling.style.display='block';this.style.display='none';\">Display W&B run</button><iframe src='https://wandb.ai/alina0195/ssl_ro/runs/o9ssfvps?jupyter=true' style='border:none;width:100%;height:420px;display:none;'></iframe>"
            ],
            "text/plain": [
              "<wandb.sdk.wandb_run.Run at 0x7e7e312bb9d0>"
            ]
          },
          "execution_count": 111,
          "metadata": {},
          "output_type": "execute_result"
        }
      ],
      "source": [
        "wandb.init(project=\"ssl_ro\", name='v5_mt5', config={\n",
        "      \"learning_rate\": config.LR[0],\n",
        "      \"batch_size\": config.BATCH_SIZE_TRAIN_LBL,\n",
        "      \"pseudolbl_datase\":config.DATASET_pseudoLABELED_PATH_FINAL,\n",
        "      \"save_path_df\": config.DATASET_FINAL_SAVE_PATH,\n",
        "      \"save_path_student\": config.MODEL_STUDENT_SAVE_PATH,\n",
        "      \"confidence type\": \"log_prob_diff\",\n",
        "      \"loss_sup_weight\": config.LOSS_WEIGHT,\n",
        "      \"confidence_thresholds\": confidence_thresholds,\n",
        "      \"temperature in generate\": 0.7,\n",
        "      \"penalty alpha in generate\":1.1,\n",
        "      \"num beams in generate\": 5\n",
        "      })"
      ]
    },
    {
      "cell_type": "code",
      "execution_count": null,
      "metadata": {
        "id": "pLHOqMdGifcI"
      },
      "outputs": [],
      "source": [
        "def iterative_sudent_learning(df_train, df_val, confidence_thresholds, num_iterations, confidence_type):\n",
        "  print('Start process')\n",
        "\n",
        "  student_model = load_model(type='student')\n",
        "\n",
        "  df_train = tokenize_df(df_train,'all_categories',tokenizer)\n",
        "  df_val = tokenize_df(df_val,'all_categories',tokenizer)\n",
        "\n",
        "  df_lbl = df_train[df_train['type']=='labeled']\n",
        "\n",
        "  best_loss = float('+inf')\n",
        "  df_final = df_train.copy()\n",
        "  best_student = student_model\n",
        "\n",
        "  for step in range(num_iterations):\n",
        "    with torch.no_grad():\n",
        "      torch.cuda.empty_cache()\n",
        "\n",
        "    print(f'Iteration {step} ...')\n",
        "    # extract from df_train weak pseudo-labeled examples as sub-dataframe for new pseudo labels generation\n",
        "    df_ulbl_weak = df_train[df_train['type']=='paseudo-labeled']\n",
        "\n",
        "    wandb.log({\"Current #weaklabeled data\": len(df_ulbl_weak)})\n",
        "\n",
        "    # train the student for #n epochs\n",
        "    student_model, current_loss, f1_score = train_loop(student_model, df_train, df_val, config.LOSS_WEIGHT)\n",
        "    print(f'\\n\\n[{step}] Done training the student.\\n')\n",
        "\n",
        "    wandb.log({\"Step Loss\":current_loss, \"Step F1\": f1_score})\n",
        "\n",
        "    # the best student becomes the teacher\n",
        "    teacher_model = student_model\n",
        "\n",
        "    # generate new pseudo labels (the confidence is also incremented)\n",
        "    if step>0:\n",
        "      confidence_threshold = confidence_thresholds[-1]\n",
        "    else:\n",
        "      confidence_threshold = confidence_thresholds[step]\n",
        "    wandb.log({\"Confidence\": confidence_threshold})\n",
        "\n",
        "    pseudo_labels =  generate_pslabels_with_confidence(teacher_model,\n",
        "                                                      df_ulbl_weak,\n",
        "                                                      tokenizer,\n",
        "                                                      confidence_threshold,\n",
        "                                                      confidence_type)\n",
        "    print(f'\\n\\n[{step}] Done generating new pseudo-labels with high confidence.\\n')\n",
        "\n",
        "    # map pseudo_labels to weak labeled df\n",
        "    df_ulbl_hard = update_dataframe_with_pseudolabels(df_ulbl_weak, pseudo_labels)\n",
        "\n",
        "    if step>0:\n",
        "      # keep only examples with high confidence\n",
        "      df_ulbl_hard = df_ulbl_hard[df_ulbl_hard['is_confident']==True]\n",
        "    else:\n",
        "      # high confidence data will become train data, and low confidence will become pseudolabeled data\n",
        "      df_ulbl_hard['type'] = ['labeled' if row['is_confident']==True else \"paseudo-labeled\" for idx,row in df_ulbl_hard.iterrows() ]\n",
        "\n",
        "    # Remake dataframe for training with labeled and new confident pseudo-labels\n",
        "    df_train = pd.concat([df_lbl, df_ulbl_hard], ignore_index=True, axis=0)\n",
        "\n",
        "    print(f'\\n\\n[{step}] Done recreating the new dataframe.\\n')\n",
        "\n",
        "    print(f'Summary for Iteration [{step}]:\\n- Loss = {current_loss}\\n- F1={f1_score}\\n- Current #instances in weak pseudo-labeled data: {len(df_ulbl_hard[df_ulbl_hard[\"type\"]==\"labeled\"])}')\n",
        "\n",
        "    if current_loss <= best_loss:\n",
        "      best_loss=current_loss\n",
        "      best_student=student_model\n",
        "      df_final=df_train\n",
        "\n",
        "      df_final.to_csv(config.DATASET_FINAL_SAVE_PATH)\n",
        "      student_model.save_pretrained(config.MODEL_STUDENT_SAVE_PATH)\n",
        "      print('- Updated best results')\n",
        "\n",
        "  return df_final, best_student, best_loss"
      ]
    },
    {
      "cell_type": "code",
      "execution_count": null,
      "metadata": {
        "colab": {
          "base_uri": "https://localhost:8080/",
          "height": 38
        },
        "id": "JxN6wkVYtizo",
        "outputId": "013664d6-9e3e-4ea0-b3bf-6df5d25efca4"
      },
      "outputs": [
        {
          "data": {
            "application/vnd.google.colaboratory.intrinsic+json": {
              "type": "string"
            },
            "text/plain": [
              "'/content/gdrive/MyDrive/Colab Notebooks/cercetare ABSA/models/ate_stud_ro_v1.pt'"
            ]
          },
          "execution_count": 113,
          "metadata": {},
          "output_type": "execute_result"
        }
      ],
      "source": [
        "config.MODEL_STUDENT_SAVE_PATH"
      ]
    },
    {
      "cell_type": "markdown",
      "metadata": {
        "id": "__53RTYMFCQR"
      },
      "source": [
        "## run"
      ]
    },
    {
      "cell_type": "code",
      "execution_count": null,
      "metadata": {
        "colab": {
          "base_uri": "https://localhost:8080/"
        },
        "id": "kP9AFmIyF5Ey",
        "outputId": "cce6c45f-298d-4a9d-c9b3-b27222752f1d"
      },
      "outputs": [
        {
          "data": {
            "text/plain": [
              "Index(['text', 'all_categories', 'type', 'inputs_ids', 'source_attention_mask',\n",
              "       'text_len'],\n",
              "      dtype='object')"
            ]
          },
          "execution_count": 115,
          "metadata": {},
          "output_type": "execute_result"
        }
      ],
      "source": [
        "df_train, df_val = train_test_split(df_new, test_size=0.1, random_state=42)\n",
        "df_val.columns"
      ]
    },
    {
      "cell_type": "code",
      "execution_count": null,
      "metadata": {
        "colab": {
          "base_uri": "https://localhost:8080/"
        },
        "id": "YqQRS4noi76G",
        "outputId": "b563c44f-9de9-4ec2-ebd2-b0a1401c75e3"
      },
      "outputs": [
        {
          "data": {
            "text/plain": [
              "(14258, 1585)"
            ]
          },
          "execution_count": 116,
          "metadata": {},
          "output_type": "execute_result"
        }
      ],
      "source": [
        "len(df_train), len(df_val)"
      ]
    },
    {
      "cell_type": "code",
      "execution_count": null,
      "metadata": {
        "colab": {
          "base_uri": "https://localhost:8080/",
          "height": 206
        },
        "id": "aCG_DTkbi_MF",
        "outputId": "1c22e59a-ee0d-469f-e8d3-f70b85f5ec3b"
      },
      "outputs": [
        {
          "data": {
            "text/html": [
              "\n",
              "  <div id=\"df-cf9ff8be-2a84-47c5-ad10-f4de755cf1b8\" class=\"colab-df-container\">\n",
              "    <div>\n",
              "<style scoped>\n",
              "    .dataframe tbody tr th:only-of-type {\n",
              "        vertical-align: middle;\n",
              "    }\n",
              "\n",
              "    .dataframe tbody tr th {\n",
              "        vertical-align: top;\n",
              "    }\n",
              "\n",
              "    .dataframe thead th {\n",
              "        text-align: right;\n",
              "    }\n",
              "</style>\n",
              "<table border=\"1\" class=\"dataframe\">\n",
              "  <thead>\n",
              "    <tr style=\"text-align: right;\">\n",
              "      <th></th>\n",
              "      <th>text</th>\n",
              "      <th>all_categories</th>\n",
              "      <th>type</th>\n",
              "      <th>inputs_ids</th>\n",
              "      <th>source_attention_mask</th>\n",
              "      <th>text_len</th>\n",
              "    </tr>\n",
              "  </thead>\n",
              "  <tbody>\n",
              "    <tr>\n",
              "      <th>3524</th>\n",
              "      <td>Extract a list with the text spans that are as...</td>\n",
              "      <td>aprovizionare;utilizare</td>\n",
              "      <td>paseudo-labeled</td>\n",
              "      <td>[[tensor(67893), tensor(259), tensor(262), ten...</td>\n",
              "      <td>[[tensor(1), tensor(1), tensor(1), tensor(1), ...</td>\n",
              "      <td>174</td>\n",
              "    </tr>\n",
              "    <tr>\n",
              "      <th>972</th>\n",
              "      <td>Extract a list with the text spans that are as...</td>\n",
              "      <td>experienta;securitateare</td>\n",
              "      <td>paseudo-labeled</td>\n",
              "      <td>[[tensor(67893), tensor(259), tensor(262), ten...</td>\n",
              "      <td>[[tensor(1), tensor(1), tensor(1), tensor(1), ...</td>\n",
              "      <td>103</td>\n",
              "    </tr>\n",
              "    <tr>\n",
              "      <th>2929</th>\n",
              "      <td>Extract a list with the text spans that are as...</td>\n",
              "      <td>servicii;calitate-calitate</td>\n",
              "      <td>paseudo-labeled</td>\n",
              "      <td>[[tensor(67893), tensor(259), tensor(262), ten...</td>\n",
              "      <td>[[tensor(1), tensor(1), tensor(1), tensor(1), ...</td>\n",
              "      <td>237</td>\n",
              "    </tr>\n",
              "    <tr>\n",
              "      <th>11274</th>\n",
              "      <td>Extract a list with the text spans that are as...</td>\n",
              "      <td>disponibilitate;pret-cali</td>\n",
              "      <td>paseudo-labeled</td>\n",
              "      <td>[[tensor(67893), tensor(259), tensor(262), ten...</td>\n",
              "      <td>[[tensor(1), tensor(1), tensor(1), tensor(1), ...</td>\n",
              "      <td>51</td>\n",
              "    </tr>\n",
              "    <tr>\n",
              "      <th>7358</th>\n",
              "      <td>Extract a list with the text spans that are as...</td>\n",
              "      <td>personal</td>\n",
              "      <td>paseudo-labeled</td>\n",
              "      <td>[[tensor(67893), tensor(259), tensor(262), ten...</td>\n",
              "      <td>[[tensor(1), tensor(1), tensor(1), tensor(1), ...</td>\n",
              "      <td>34</td>\n",
              "    </tr>\n",
              "  </tbody>\n",
              "</table>\n",
              "</div>\n",
              "    <div class=\"colab-df-buttons\">\n",
              "\n",
              "  <div class=\"colab-df-container\">\n",
              "    <button class=\"colab-df-convert\" onclick=\"convertToInteractive('df-cf9ff8be-2a84-47c5-ad10-f4de755cf1b8')\"\n",
              "            title=\"Convert this dataframe to an interactive table.\"\n",
              "            style=\"display:none;\">\n",
              "\n",
              "  <svg xmlns=\"http://www.w3.org/2000/svg\" height=\"24px\" viewBox=\"0 -960 960 960\">\n",
              "    <path d=\"M120-120v-720h720v720H120Zm60-500h600v-160H180v160Zm220 220h160v-160H400v160Zm0 220h160v-160H400v160ZM180-400h160v-160H180v160Zm440 0h160v-160H620v160ZM180-180h160v-160H180v160Zm440 0h160v-160H620v160Z\"/>\n",
              "  </svg>\n",
              "    </button>\n",
              "\n",
              "  <style>\n",
              "    .colab-df-container {\n",
              "      display:flex;\n",
              "      gap: 12px;\n",
              "    }\n",
              "\n",
              "    .colab-df-convert {\n",
              "      background-color: #E8F0FE;\n",
              "      border: none;\n",
              "      border-radius: 50%;\n",
              "      cursor: pointer;\n",
              "      display: none;\n",
              "      fill: #1967D2;\n",
              "      height: 32px;\n",
              "      padding: 0 0 0 0;\n",
              "      width: 32px;\n",
              "    }\n",
              "\n",
              "    .colab-df-convert:hover {\n",
              "      background-color: #E2EBFA;\n",
              "      box-shadow: 0px 1px 2px rgba(60, 64, 67, 0.3), 0px 1px 3px 1px rgba(60, 64, 67, 0.15);\n",
              "      fill: #174EA6;\n",
              "    }\n",
              "\n",
              "    .colab-df-buttons div {\n",
              "      margin-bottom: 4px;\n",
              "    }\n",
              "\n",
              "    [theme=dark] .colab-df-convert {\n",
              "      background-color: #3B4455;\n",
              "      fill: #D2E3FC;\n",
              "    }\n",
              "\n",
              "    [theme=dark] .colab-df-convert:hover {\n",
              "      background-color: #434B5C;\n",
              "      box-shadow: 0px 1px 3px 1px rgba(0, 0, 0, 0.15);\n",
              "      filter: drop-shadow(0px 1px 2px rgba(0, 0, 0, 0.3));\n",
              "      fill: #FFFFFF;\n",
              "    }\n",
              "  </style>\n",
              "\n",
              "    <script>\n",
              "      const buttonEl =\n",
              "        document.querySelector('#df-cf9ff8be-2a84-47c5-ad10-f4de755cf1b8 button.colab-df-convert');\n",
              "      buttonEl.style.display =\n",
              "        google.colab.kernel.accessAllowed ? 'block' : 'none';\n",
              "\n",
              "      async function convertToInteractive(key) {\n",
              "        const element = document.querySelector('#df-cf9ff8be-2a84-47c5-ad10-f4de755cf1b8');\n",
              "        const dataTable =\n",
              "          await google.colab.kernel.invokeFunction('convertToInteractive',\n",
              "                                                    [key], {});\n",
              "        if (!dataTable) return;\n",
              "\n",
              "        const docLinkHtml = 'Like what you see? Visit the ' +\n",
              "          '<a target=\"_blank\" href=https://colab.research.google.com/notebooks/data_table.ipynb>data table notebook</a>'\n",
              "          + ' to learn more about interactive tables.';\n",
              "        element.innerHTML = '';\n",
              "        dataTable['output_type'] = 'display_data';\n",
              "        await google.colab.output.renderOutput(dataTable, element);\n",
              "        const docLink = document.createElement('div');\n",
              "        docLink.innerHTML = docLinkHtml;\n",
              "        element.appendChild(docLink);\n",
              "      }\n",
              "    </script>\n",
              "  </div>\n",
              "\n",
              "\n",
              "<div id=\"df-f33d522b-28a1-4e9b-8208-7f70193129e3\">\n",
              "  <button class=\"colab-df-quickchart\" onclick=\"quickchart('df-f33d522b-28a1-4e9b-8208-7f70193129e3')\"\n",
              "            title=\"Suggest charts\"\n",
              "            style=\"display:none;\">\n",
              "\n",
              "<svg xmlns=\"http://www.w3.org/2000/svg\" height=\"24px\"viewBox=\"0 0 24 24\"\n",
              "     width=\"24px\">\n",
              "    <g>\n",
              "        <path d=\"M19 3H5c-1.1 0-2 .9-2 2v14c0 1.1.9 2 2 2h14c1.1 0 2-.9 2-2V5c0-1.1-.9-2-2-2zM9 17H7v-7h2v7zm4 0h-2V7h2v10zm4 0h-2v-4h2v4z\"/>\n",
              "    </g>\n",
              "</svg>\n",
              "  </button>\n",
              "\n",
              "<style>\n",
              "  .colab-df-quickchart {\n",
              "      --bg-color: #E8F0FE;\n",
              "      --fill-color: #1967D2;\n",
              "      --hover-bg-color: #E2EBFA;\n",
              "      --hover-fill-color: #174EA6;\n",
              "      --disabled-fill-color: #AAA;\n",
              "      --disabled-bg-color: #DDD;\n",
              "  }\n",
              "\n",
              "  [theme=dark] .colab-df-quickchart {\n",
              "      --bg-color: #3B4455;\n",
              "      --fill-color: #D2E3FC;\n",
              "      --hover-bg-color: #434B5C;\n",
              "      --hover-fill-color: #FFFFFF;\n",
              "      --disabled-bg-color: #3B4455;\n",
              "      --disabled-fill-color: #666;\n",
              "  }\n",
              "\n",
              "  .colab-df-quickchart {\n",
              "    background-color: var(--bg-color);\n",
              "    border: none;\n",
              "    border-radius: 50%;\n",
              "    cursor: pointer;\n",
              "    display: none;\n",
              "    fill: var(--fill-color);\n",
              "    height: 32px;\n",
              "    padding: 0;\n",
              "    width: 32px;\n",
              "  }\n",
              "\n",
              "  .colab-df-quickchart:hover {\n",
              "    background-color: var(--hover-bg-color);\n",
              "    box-shadow: 0 1px 2px rgba(60, 64, 67, 0.3), 0 1px 3px 1px rgba(60, 64, 67, 0.15);\n",
              "    fill: var(--button-hover-fill-color);\n",
              "  }\n",
              "\n",
              "  .colab-df-quickchart-complete:disabled,\n",
              "  .colab-df-quickchart-complete:disabled:hover {\n",
              "    background-color: var(--disabled-bg-color);\n",
              "    fill: var(--disabled-fill-color);\n",
              "    box-shadow: none;\n",
              "  }\n",
              "\n",
              "  .colab-df-spinner {\n",
              "    border: 2px solid var(--fill-color);\n",
              "    border-color: transparent;\n",
              "    border-bottom-color: var(--fill-color);\n",
              "    animation:\n",
              "      spin 1s steps(1) infinite;\n",
              "  }\n",
              "\n",
              "  @keyframes spin {\n",
              "    0% {\n",
              "      border-color: transparent;\n",
              "      border-bottom-color: var(--fill-color);\n",
              "      border-left-color: var(--fill-color);\n",
              "    }\n",
              "    20% {\n",
              "      border-color: transparent;\n",
              "      border-left-color: var(--fill-color);\n",
              "      border-top-color: var(--fill-color);\n",
              "    }\n",
              "    30% {\n",
              "      border-color: transparent;\n",
              "      border-left-color: var(--fill-color);\n",
              "      border-top-color: var(--fill-color);\n",
              "      border-right-color: var(--fill-color);\n",
              "    }\n",
              "    40% {\n",
              "      border-color: transparent;\n",
              "      border-right-color: var(--fill-color);\n",
              "      border-top-color: var(--fill-color);\n",
              "    }\n",
              "    60% {\n",
              "      border-color: transparent;\n",
              "      border-right-color: var(--fill-color);\n",
              "    }\n",
              "    80% {\n",
              "      border-color: transparent;\n",
              "      border-right-color: var(--fill-color);\n",
              "      border-bottom-color: var(--fill-color);\n",
              "    }\n",
              "    90% {\n",
              "      border-color: transparent;\n",
              "      border-bottom-color: var(--fill-color);\n",
              "    }\n",
              "  }\n",
              "</style>\n",
              "\n",
              "  <script>\n",
              "    async function quickchart(key) {\n",
              "      const quickchartButtonEl =\n",
              "        document.querySelector('#' + key + ' button');\n",
              "      quickchartButtonEl.disabled = true;  // To prevent multiple clicks.\n",
              "      quickchartButtonEl.classList.add('colab-df-spinner');\n",
              "      try {\n",
              "        const charts = await google.colab.kernel.invokeFunction(\n",
              "            'suggestCharts', [key], {});\n",
              "      } catch (error) {\n",
              "        console.error('Error during call to suggestCharts:', error);\n",
              "      }\n",
              "      quickchartButtonEl.classList.remove('colab-df-spinner');\n",
              "      quickchartButtonEl.classList.add('colab-df-quickchart-complete');\n",
              "    }\n",
              "    (() => {\n",
              "      let quickchartButtonEl =\n",
              "        document.querySelector('#df-f33d522b-28a1-4e9b-8208-7f70193129e3 button');\n",
              "      quickchartButtonEl.style.display =\n",
              "        google.colab.kernel.accessAllowed ? 'block' : 'none';\n",
              "    })();\n",
              "  </script>\n",
              "</div>\n",
              "    </div>\n",
              "  </div>\n"
            ],
            "text/plain": [
              "                                                    text  \\\n",
              "3524   Extract a list with the text spans that are as...   \n",
              "972    Extract a list with the text spans that are as...   \n",
              "2929   Extract a list with the text spans that are as...   \n",
              "11274  Extract a list with the text spans that are as...   \n",
              "7358   Extract a list with the text spans that are as...   \n",
              "\n",
              "                   all_categories             type  \\\n",
              "3524      aprovizionare;utilizare  paseudo-labeled   \n",
              "972      experienta;securitateare  paseudo-labeled   \n",
              "2929   servicii;calitate-calitate  paseudo-labeled   \n",
              "11274   disponibilitate;pret-cali  paseudo-labeled   \n",
              "7358                     personal  paseudo-labeled   \n",
              "\n",
              "                                              inputs_ids  \\\n",
              "3524   [[tensor(67893), tensor(259), tensor(262), ten...   \n",
              "972    [[tensor(67893), tensor(259), tensor(262), ten...   \n",
              "2929   [[tensor(67893), tensor(259), tensor(262), ten...   \n",
              "11274  [[tensor(67893), tensor(259), tensor(262), ten...   \n",
              "7358   [[tensor(67893), tensor(259), tensor(262), ten...   \n",
              "\n",
              "                                   source_attention_mask  text_len  \n",
              "3524   [[tensor(1), tensor(1), tensor(1), tensor(1), ...       174  \n",
              "972    [[tensor(1), tensor(1), tensor(1), tensor(1), ...       103  \n",
              "2929   [[tensor(1), tensor(1), tensor(1), tensor(1), ...       237  \n",
              "11274  [[tensor(1), tensor(1), tensor(1), tensor(1), ...        51  \n",
              "7358   [[tensor(1), tensor(1), tensor(1), tensor(1), ...        34  "
            ]
          },
          "execution_count": 117,
          "metadata": {},
          "output_type": "execute_result"
        }
      ],
      "source": [
        "df_val.head()"
      ]
    },
    {
      "cell_type": "code",
      "execution_count": null,
      "metadata": {
        "id": "viMxcrXWX_K7"
      },
      "outputs": [],
      "source": [
        "import warnings\n",
        "warnings.filterwarnings('ignore') # setting ignore as a parameter"
      ]
    },
    {
      "cell_type": "code",
      "execution_count": null,
      "metadata": {
        "colab": {
          "base_uri": "https://localhost:8080/"
        },
        "id": "XuKmFVxPoyDm",
        "outputId": "93bc9d5a-0987-4e26-8eb9-4c9c755e0c43"
      },
      "outputs": [
        {
          "data": {
            "text/plain": [
              "array([0.5, 0.3, 0.3])"
            ]
          },
          "execution_count": 118,
          "metadata": {},
          "output_type": "execute_result"
        }
      ],
      "source": [
        "confidence_thresholds"
      ]
    },
    {
      "cell_type": "code",
      "execution_count": null,
      "metadata": {
        "colab": {
          "background_save": true,
          "base_uri": "https://localhost:8080/",
          "height": 1000,
          "referenced_widgets": [
            "8f4b829d9850477c941c0a36703ef8b2",
            "144800c694024d159d8db0c5d302e9dd",
            "c1a39a73a54d470fb38ae86034ce17c4",
            "e48ab6abae334dec9a874ad9ddcc2b01",
            "78e4798b288a45a8aa71e479a9842d97",
            "b76589bb56ad4434a55dc4933d1b9f52",
            "4adaba040c5b4afa81abb9dee47f0b10",
            "3c012a12fdc447f59a99d224ae73ad76",
            "5ad11313fc3b462db2c323448a275199",
            "e466422dda974beb92e4d5f9f8f02e86",
            "c8ac13ec9ad8461693a32eee94389d76",
            "23ddebd792bd4b46b28e55859e87dbda",
            "873c8b0dbde04375a95dd854206531da",
            "ac19c8fc7dbd4906be3358ba84f331bb",
            "d76848501dcb4dfe94b21dad5bd38174",
            "529e00afef8e4b42a34ad861b5fec740",
            "01b40cef48f442e287ff1188444d4552",
            "b7613179f9034c778d281a5ff9bf237b",
            "bca1f5b3549046e19ed013d38481ad3d",
            "6ec7074416fa4aafa73f5c8f074f7100",
            "8de4f335489c4157a650fb09fc884acc",
            "51ac7cfc554e4a6aa03e7ca78852e767"
          ]
        },
        "id": "SyHn7_-T6skp",
        "outputId": "da626364-f5c9-461e-dc1a-b3a089587135"
      },
      "outputs": [
        {
          "name": "stdout",
          "output_type": "stream",
          "text": [
            "Start process\n"
          ]
        },
        {
          "data": {
            "application/vnd.jupyter.widget-view+json": {
              "model_id": "8f4b829d9850477c941c0a36703ef8b2",
              "version_major": 2,
              "version_minor": 0
            },
            "text/plain": [
              "pytorch_model.bin:   0%|          | 0.00/2.33G [00:00<?, ?B/s]"
            ]
          },
          "metadata": {},
          "output_type": "display_data"
        },
        {
          "data": {
            "application/vnd.jupyter.widget-view+json": {
              "model_id": "23ddebd792bd4b46b28e55859e87dbda",
              "version_major": 2,
              "version_minor": 0
            },
            "text/plain": [
              "generation_config.json:   0%|          | 0.00/147 [00:00<?, ?B/s]"
            ]
          },
          "metadata": {},
          "output_type": "display_data"
        },
        {
          "name": "stdout",
          "output_type": "stream",
          "text": [
            "Iteration 0 ...\n",
            "\n",
            "======== Epoch 1 / 3 ========\n",
            "Training...\n"
          ]
        },
        {
          "name": "stderr",
          "output_type": "stream",
          "text": [
            "3565it [11:30,  5.16it/s]\n"
          ]
        },
        {
          "name": "stdout",
          "output_type": "stream",
          "text": [
            "\n",
            "summary results\n",
            "epoch | train loss | train time \n",
            "    1 |  0.32519  |  0:11:31\n"
          ]
        },
        {
          "name": "stderr",
          "output_type": "stream",
          "text": [
            "201it [01:05,  3.12it/s]"
          ]
        },
        {
          "name": "stdout",
          "output_type": "stream",
          "text": [
            "\n",
            "  Batch   200  of    397.\n",
            "Ground truth:\n",
            " ['produs;utilizare-calitate', 'utilizare;produs-calitate', 'produs;pret-calitate', 'marimi']\n",
            "Clean predictions generated:\n",
            " [['produs', 'utilizare-calitate'], ['produs', 'utilizare-calitate'], ['produs', 'utilizare-calitate'], ['produs']]\n",
            "F1: 0.125\n",
            "Recall: [1.0, 0.0, 0.5, 0.0]\n",
            "\n"
          ]
        },
        {
          "name": "stderr",
          "output_type": "stream",
          "text": [
            "397it [02:09,  3.08it/s]\n"
          ]
        },
        {
          "name": "stdout",
          "output_type": "stream",
          "text": [
            "\n",
            "Evaluation Summary Results\n",
            "val loss | val f1 | val recall \n",
            "1.0160     0.0801   0.3603\n",
            "\n",
            "======== Epoch 2 / 3 ========\n",
            "Training...\n"
          ]
        },
        {
          "name": "stderr",
          "output_type": "stream",
          "text": [
            "3565it [11:30,  5.16it/s]\n"
          ]
        },
        {
          "name": "stdout",
          "output_type": "stream",
          "text": [
            "\n",
            "summary results\n",
            "epoch | train loss | train time \n",
            "    2 |  0.20952  |  0:11:31\n"
          ]
        },
        {
          "name": "stderr",
          "output_type": "stream",
          "text": [
            "201it [01:12,  2.71it/s]"
          ]
        },
        {
          "name": "stdout",
          "output_type": "stream",
          "text": [
            "\n",
            "  Batch   200  of    397.\n",
            "Ground truth:\n",
            " ['disponibilitate', 'produs;utilizare asamblare', 'rezistenta', 'produs;utilizare-calitate']\n",
            "Clean predictions generated:\n",
            " [['produs', 'utilizare-calitate'], ['produs', 'utilizare-calitate'], ['produs', 'utilizare-calitate'], ['produs', 'utilizare-calitate']]\n",
            "F1: 0.1\n",
            "Recall: [0.0, 0.5, 0.0, 1.0]\n",
            "\n"
          ]
        },
        {
          "name": "stderr",
          "output_type": "stream",
          "text": [
            "397it [02:22,  2.79it/s]\n"
          ]
        },
        {
          "name": "stdout",
          "output_type": "stream",
          "text": [
            "\n",
            "Evaluation Summary Results\n",
            "val loss | val f1 | val recall \n",
            "0.9616     0.0499   0.3420\n",
            "\n",
            "======== Epoch 3 / 3 ========\n",
            "Training...\n"
          ]
        },
        {
          "name": "stderr",
          "output_type": "stream",
          "text": [
            "3565it [11:31,  5.16it/s]\n"
          ]
        },
        {
          "name": "stdout",
          "output_type": "stream",
          "text": [
            "\n",
            "summary results\n",
            "epoch | train loss | train time \n",
            "    3 |  0.18580  |  0:11:32\n"
          ]
        },
        {
          "name": "stderr",
          "output_type": "stream",
          "text": [
            "201it [01:12,  2.75it/s]"
          ]
        },
        {
          "name": "stdout",
          "output_type": "stream",
          "text": [
            "\n",
            "  Batch   200  of    397.\n",
            "Ground truth:\n",
            " ['calitate;pret-calitate', 'pret;experienta', 'produs;livrare-calitate', 'produs;pret-calitate']\n",
            "Clean predictions generated:\n",
            " [['produs', 'pret-calitate'], ['produs', 'utilizare-calitate'], ['produs', 'pret-calitate'], ['produs', 'utilizare-calitate']]\n",
            "F1: 0.0\n",
            "Recall: [0.5, 0.0, 0.5, 0.5]\n",
            "\n"
          ]
        },
        {
          "name": "stderr",
          "output_type": "stream",
          "text": [
            "397it [02:22,  2.78it/s]\n"
          ]
        },
        {
          "name": "stdout",
          "output_type": "stream",
          "text": [
            "\n",
            "Evaluation Summary Results\n",
            "val loss | val f1 | val recall \n",
            "0.8668     0.0988   0.3886\n",
            "\n",
            "\n",
            "[0] Done training the student.\n",
            "\n",
            "prediction='produs;pret-calitate' [confidence=0.4997524619102478]\n",
            "prediction='produs;pret-calitate' [confidence=0.0]\n",
            "prediction='produs;confort-calitate' [confidence=0.027476757764816284]\n",
            "prediction='produs;utilizare-calitate' [confidence=0.0]\n",
            "\n",
            "\n",
            "[0] Done generating new pseudo-labels with high confidence.\n",
            "\n",
            "\n",
            "\n",
            "[0] Done recreating the new dataframe.\n",
            "\n",
            "Summary for Iteration [0]:\n",
            "- Loss = 1.015960302100674\n",
            "- F1=0.08005877413937872\n",
            "- Current #instances in weak pseudo-labeled data: 1920\n",
            "- Updated best results\n",
            "Iteration 1 ...\n",
            "\n",
            "======== Epoch 1 / 3 ========\n",
            "Training...\n"
          ]
        },
        {
          "name": "stderr",
          "output_type": "stream",
          "text": [
            "3535it [13:25,  4.39it/s]\n"
          ]
        },
        {
          "name": "stdout",
          "output_type": "stream",
          "text": [
            "\n",
            "summary results\n",
            "epoch | train loss | train time \n",
            "    1 |  0.30895  |  0:13:26\n"
          ]
        },
        {
          "name": "stderr",
          "output_type": "stream",
          "text": [
            "201it [01:05,  3.10it/s]"
          ]
        },
        {
          "name": "stdout",
          "output_type": "stream",
          "text": [
            "\n",
            "  Batch   200  of    397.\n",
            "Ground truth:\n",
            " ['produs;utilitate asamblare', 'organizare', 'magazin;produs-calitate', 'produs;pret-calitate']\n",
            "Clean predictions generated:\n",
            " [['produs', 'utilizare-calitate'], ['produs', 'utilizare-calitate'], ['produs', 'utilizare-calitate'], ['produs', 'utilizare-calitate']]\n",
            "F1: 0.0\n",
            "Recall: [0.5, 0.0, 0.0, 0.5]\n",
            "\n"
          ]
        },
        {
          "name": "stderr",
          "output_type": "stream",
          "text": [
            "397it [02:09,  3.06it/s]\n"
          ]
        },
        {
          "name": "stdout",
          "output_type": "stream",
          "text": [
            "\n",
            "Evaluation Summary Results\n",
            "val loss | val f1 | val recall \n",
            "0.9179     0.1128   0.3817\n",
            "\n",
            "======== Epoch 2 / 3 ========\n",
            "Training...\n"
          ]
        },
        {
          "name": "stderr",
          "output_type": "stream",
          "text": [
            "3535it [13:24,  4.40it/s]\n"
          ]
        },
        {
          "name": "stdout",
          "output_type": "stream",
          "text": [
            "\n",
            "summary results\n",
            "epoch | train loss | train time \n",
            "    2 |  0.28033  |  0:13:24\n"
          ]
        },
        {
          "name": "stderr",
          "output_type": "stream",
          "text": [
            "201it [01:07,  2.97it/s]"
          ]
        },
        {
          "name": "stdout",
          "output_type": "stream",
          "text": [
            "\n",
            "  Batch   200  of    397.\n",
            "Ground truth:\n",
            " ['servicii;personal-calitate', 'personal;suport', 'asamblare;utilitate', 'rezistenta;produs']\n",
            "Clean predictions generated:\n",
            " [['produs', 'utilizare-calitate'], ['produs'], ['produs', 'utilizare-calitate'], ['produs', 'confort-calitate']]\n",
            "F1: 0.0\n",
            "Recall: [0.0, 0.0, 0.0, 0.5]\n",
            "\n"
          ]
        },
        {
          "name": "stderr",
          "output_type": "stream",
          "text": [
            "397it [02:12,  3.00it/s]\n"
          ]
        },
        {
          "name": "stdout",
          "output_type": "stream",
          "text": [
            "\n",
            "Evaluation Summary Results\n",
            "val loss | val f1 | val recall \n",
            "0.8737     0.1162   0.3981\n",
            "\n",
            "======== Epoch 3 / 3 ========\n",
            "Training...\n"
          ]
        },
        {
          "name": "stderr",
          "output_type": "stream",
          "text": [
            "3535it [13:24,  4.39it/s]\n"
          ]
        },
        {
          "name": "stdout",
          "output_type": "stream",
          "text": [
            "\n",
            "summary results\n",
            "epoch | train loss | train time \n",
            "    3 |  0.27287  |  0:13:24\n"
          ]
        },
        {
          "name": "stderr",
          "output_type": "stream",
          "text": [
            "201it [01:07,  2.99it/s]"
          ]
        },
        {
          "name": "stdout",
          "output_type": "stream",
          "text": [
            "\n",
            "  Batch   200  of    397.\n",
            "Ground truth:\n",
            " ['produs;material-calitate', 'produs;calitate-calitate', 'produs;confort-calitate', 'produs;utilizare-calitate']\n",
            "Clean predictions generated:\n",
            " [['produs', 'utilizare-calitate'], ['produs', 'pret-calitate'], ['produs', 'confort-calitate'], ['produs', 'utilizare-calitate']]\n",
            "F1: 0.41666666666666663\n",
            "Recall: [0.5, 0.5, 1.0, 1.0]\n",
            "\n"
          ]
        },
        {
          "name": "stderr",
          "output_type": "stream",
          "text": [
            "397it [02:12,  2.99it/s]\n"
          ]
        },
        {
          "name": "stdout",
          "output_type": "stream",
          "text": [
            "\n",
            "Evaluation Summary Results\n",
            "val loss | val f1 | val recall \n",
            "0.9133     0.1387   0.4019\n",
            "\n",
            "\n",
            "[1] Done training the student.\n",
            "\n",
            "prediction='produs;pret-calitate' [confidence=0.0]\n",
            "prediction='produs;confort-calitate' [confidence=0.25681284070014954]\n",
            "prediction='produs;pret-calitate' [confidence=0.0]\n",
            "\n",
            "\n",
            "[1] Done generating new pseudo-labels with high confidence.\n",
            "\n",
            "\n",
            "\n",
            "[1] Done recreating the new dataframe.\n",
            "\n",
            "Summary for Iteration [1]:\n",
            "- Loss = 0.9178648972391181\n",
            "- F1=0.1127623845507976\n",
            "- Current #instances in weak pseudo-labeled data: 0\n",
            "- Updated best results\n",
            "Iteration 2 ...\n",
            "\n",
            "======== Epoch 1 / 3 ========\n",
            "Training...\n"
          ]
        },
        {
          "name": "stderr",
          "output_type": "stream",
          "text": [
            "266it [00:52,  5.08it/s]\n"
          ]
        },
        {
          "name": "stdout",
          "output_type": "stream",
          "text": [
            "\n",
            "summary results\n",
            "epoch | train loss | train time \n",
            "    1 |  0.03251  |  0:00:52\n"
          ]
        },
        {
          "name": "stderr",
          "output_type": "stream",
          "text": [
            "201it [01:03,  3.13it/s]"
          ]
        },
        {
          "name": "stdout",
          "output_type": "stream",
          "text": [
            "\n",
            "  Batch   200  of    397.\n",
            "Ground truth:\n",
            " ['produs;personal', 'produs;utilizare-calitate', 'organizare', 'produs;utilizare-calitate']\n",
            "Clean predictions generated:\n",
            " [['produs', 'pret-calitate'], ['produs', 'pret-calitate'], ['personal'], ['produs', 'utilizare-calitate']]\n",
            "F1: 0.3333333333333333\n",
            "Recall: [0.5, 0.5, 0.0, 1.0]\n",
            "\n"
          ]
        },
        {
          "name": "stderr",
          "output_type": "stream",
          "text": [
            "397it [02:05,  3.16it/s]\n"
          ]
        },
        {
          "name": "stdout",
          "output_type": "stream",
          "text": [
            "\n",
            "Evaluation Summary Results\n",
            "val loss | val f1 | val recall \n",
            "1.4716     0.1452   0.4003\n",
            "\n",
            "======== Epoch 2 / 3 ========\n",
            "Training...\n"
          ]
        },
        {
          "name": "stderr",
          "output_type": "stream",
          "text": [
            "266it [00:51,  5.16it/s]\n"
          ]
        },
        {
          "name": "stdout",
          "output_type": "stream",
          "text": [
            "\n",
            "summary results\n",
            "epoch | train loss | train time \n",
            "    2 |  0.02251  |  0:00:52\n"
          ]
        },
        {
          "name": "stderr",
          "output_type": "stream",
          "text": [
            "201it [01:02,  3.14it/s]"
          ]
        },
        {
          "name": "stdout",
          "output_type": "stream",
          "text": [
            "\n",
            "  Batch   200  of    397.\n",
            "Ground truth:\n",
            " ['utilizare;produs-calitate', 'produs;pret-calitate', 'produs;utilizare-calitate', 'produs;organizare-calitate']\n",
            "Clean predictions generated:\n",
            " [['produs', 'utilizare-calitate'], ['produs'], ['produs', 'pret-calitate'], ['produs', 'pret-calitate']]\n",
            "F1: 0.0\n",
            "Recall: [0.0, 0.5, 0.5, 0.5]\n",
            "\n"
          ]
        },
        {
          "name": "stderr",
          "output_type": "stream",
          "text": [
            "397it [02:04,  3.19it/s]\n"
          ]
        },
        {
          "name": "stdout",
          "output_type": "stream",
          "text": [
            "\n",
            "Evaluation Summary Results\n",
            "val loss | val f1 | val recall \n",
            "1.5303     0.1535   0.3946\n",
            "\n",
            "======== Epoch 3 / 3 ========\n",
            "Training...\n"
          ]
        },
        {
          "name": "stderr",
          "output_type": "stream",
          "text": [
            "266it [00:51,  5.14it/s]\n"
          ]
        },
        {
          "name": "stdout",
          "output_type": "stream",
          "text": [
            "\n",
            "summary results\n",
            "epoch | train loss | train time \n",
            "    3 |  0.01849  |  0:00:52\n"
          ]
        },
        {
          "name": "stderr",
          "output_type": "stream",
          "text": [
            "201it [01:03,  3.28it/s]"
          ]
        },
        {
          "name": "stdout",
          "output_type": "stream",
          "text": [
            "\n",
            "  Batch   200  of    397.\n",
            "Ground truth:\n",
            " ['varietate;experienta-calitate', 'produs', 'produs;pret-calitate', 'magazin;pret-calitate']\n",
            "Clean predictions generated:\n",
            " [['produs', 'pret-calitate'], ['comanda'], ['produs', 'pret-calitate'], ['comanda']]\n",
            "F1: 0.16666666666666666\n",
            "Recall: [0.0, 0.0, 1.0, 0.0]\n",
            "\n"
          ]
        },
        {
          "name": "stderr",
          "output_type": "stream",
          "text": [
            "397it [02:05,  3.16it/s]\n"
          ]
        },
        {
          "name": "stdout",
          "output_type": "stream",
          "text": [
            "\n",
            "Evaluation Summary Results\n",
            "val loss | val f1 | val recall \n",
            "1.4836     0.1493   0.3883\n",
            "\n",
            "\n",
            "[2] Done training the student.\n",
            "\n",
            "prediction='produs' [confidence=0.0]\n",
            "\n",
            "\n",
            "[2] Done generating new pseudo-labels with high confidence.\n",
            "\n",
            "\n",
            "\n",
            "[2] Done recreating the new dataframe.\n",
            "\n",
            "Summary for Iteration [2]:\n",
            "- Loss = 1.5303111825354154\n",
            "- F1=0.1534634760705288\n",
            "- Current #instances in weak pseudo-labeled data: 0\n"
          ]
        }
      ],
      "source": [
        "df_final, best_student, best_loss =  iterative_sudent_learning(df_train, df_val, confidence_thresholds, len(confidence_thresholds),'log_prob_diff')"
      ]
    },
    {
      "cell_type": "markdown",
      "metadata": {
        "id": "exJKP4BKF__E"
      },
      "source": [
        "## save and test"
      ]
    },
    {
      "cell_type": "code",
      "execution_count": null,
      "metadata": {
        "id": "Xq7LLMSDtzuh"
      },
      "outputs": [],
      "source": [
        "df_final"
      ]
    },
    {
      "cell_type": "code",
      "execution_count": null,
      "metadata": {
        "id": "5qLGJgCzUCBt"
      },
      "outputs": [],
      "source": [
        "# df_final.to_csv(config.DATASET_FINAL_SAVE_PATH)\n",
        "# best_student.save_pretrained(config.MODEL_STUDENT_SAVE_PATH)"
      ]
    },
    {
      "cell_type": "code",
      "execution_count": null,
      "metadata": {
        "colab": {
          "background_save": true
        },
        "id": "bGJO6SF9Uo18"
      },
      "outputs": [],
      "source": [
        "df_test_final = tokenize_df(df_test_final,'all_categories',tokenizer)"
      ]
    },
    {
      "cell_type": "code",
      "execution_count": null,
      "metadata": {
        "colab": {
          "base_uri": "https://localhost:8080/"
        },
        "id": "ETTrIoaMUY1n",
        "outputId": "f38d7007-7d90-4277-d240-b22fe9540673"
      },
      "outputs": [
        {
          "name": "stderr",
          "output_type": "stream",
          "text": [
            "23it [00:07,  3.12it/s]"
          ]
        }
      ],
      "source": [
        "test_loss, test_f1, test_recall = eval(best_student, df_test_final)"
      ]
    },
    {
      "cell_type": "code",
      "execution_count": null,
      "metadata": {
        "id": "eCTgA2R9nVlv"
      },
      "outputs": [],
      "source": [
        "wandb.finish()"
      ]
    },
    {
      "cell_type": "markdown",
      "source": [
        "# Compare the initial pslbl dataset with the final one"
      ],
      "metadata": {
        "id": "wb5zD6rf6UuL"
      }
    },
    {
      "cell_type": "code",
      "source": [
        "DATASET_pseudoLABELED_PATH_FINAL = '/content/gdrive/MyDrive/Colab Notebooks/cercetare ABSA/dataset/ro/pseudolabeled_reviews.csv'\n",
        "DATASET_FINAL_SAVE_PATH = '/content/gdrive/MyDrive/Colab Notebooks/cercetare ABSA/dataset/ro/labeled_reviews_by_student.csv'"
      ],
      "metadata": {
        "id": "IVP7bGV66Y7b"
      },
      "execution_count": null,
      "outputs": []
    }
  ],
  "metadata": {
    "accelerator": "GPU",
    "colab": {
      "collapsed_sections": [
        "RiHLLAQ-1j_y",
        "qK6Qqr2j-WD7",
        "IblW1U_9QXN3",
        "saS3nSKIK1W5",
        "rf83dSLKupMh",
        "6yfYfN-9d0OW"
      ],
      "machine_shape": "hm",
      "provenance": [],
      "toc_visible": true
    },
    "kernelspec": {
      "display_name": "Python 3",
      "name": "python3"
    },
    "language_info": {
      "name": "python"
    },
    "widgets": {
      "application/vnd.jupyter.widget-state+json": {
        "01b40cef48f442e287ff1188444d4552": {
          "model_module": "@jupyter-widgets/base",
          "model_module_version": "1.2.0",
          "model_name": "LayoutModel",
          "state": {
            "_model_module": "@jupyter-widgets/base",
            "_model_module_version": "1.2.0",
            "_model_name": "LayoutModel",
            "_view_count": null,
            "_view_module": "@jupyter-widgets/base",
            "_view_module_version": "1.2.0",
            "_view_name": "LayoutView",
            "align_content": null,
            "align_items": null,
            "align_self": null,
            "border": null,
            "bottom": null,
            "display": null,
            "flex": null,
            "flex_flow": null,
            "grid_area": null,
            "grid_auto_columns": null,
            "grid_auto_flow": null,
            "grid_auto_rows": null,
            "grid_column": null,
            "grid_gap": null,
            "grid_row": null,
            "grid_template_areas": null,
            "grid_template_columns": null,
            "grid_template_rows": null,
            "height": null,
            "justify_content": null,
            "justify_items": null,
            "left": null,
            "margin": null,
            "max_height": null,
            "max_width": null,
            "min_height": null,
            "min_width": null,
            "object_fit": null,
            "object_position": null,
            "order": null,
            "overflow": null,
            "overflow_x": null,
            "overflow_y": null,
            "padding": null,
            "right": null,
            "top": null,
            "visibility": null,
            "width": null
          }
        },
        "144800c694024d159d8db0c5d302e9dd": {
          "model_module": "@jupyter-widgets/controls",
          "model_module_version": "1.5.0",
          "model_name": "HTMLModel",
          "state": {
            "_dom_classes": [],
            "_model_module": "@jupyter-widgets/controls",
            "_model_module_version": "1.5.0",
            "_model_name": "HTMLModel",
            "_view_count": null,
            "_view_module": "@jupyter-widgets/controls",
            "_view_module_version": "1.5.0",
            "_view_name": "HTMLView",
            "description": "",
            "description_tooltip": null,
            "layout": "IPY_MODEL_b76589bb56ad4434a55dc4933d1b9f52",
            "placeholder": "​",
            "style": "IPY_MODEL_4adaba040c5b4afa81abb9dee47f0b10",
            "value": "pytorch_model.bin: 100%"
          }
        },
        "23ddebd792bd4b46b28e55859e87dbda": {
          "model_module": "@jupyter-widgets/controls",
          "model_module_version": "1.5.0",
          "model_name": "HBoxModel",
          "state": {
            "_dom_classes": [],
            "_model_module": "@jupyter-widgets/controls",
            "_model_module_version": "1.5.0",
            "_model_name": "HBoxModel",
            "_view_count": null,
            "_view_module": "@jupyter-widgets/controls",
            "_view_module_version": "1.5.0",
            "_view_name": "HBoxView",
            "box_style": "",
            "children": [
              "IPY_MODEL_873c8b0dbde04375a95dd854206531da",
              "IPY_MODEL_ac19c8fc7dbd4906be3358ba84f331bb",
              "IPY_MODEL_d76848501dcb4dfe94b21dad5bd38174"
            ],
            "layout": "IPY_MODEL_529e00afef8e4b42a34ad861b5fec740"
          }
        },
        "3c012a12fdc447f59a99d224ae73ad76": {
          "model_module": "@jupyter-widgets/base",
          "model_module_version": "1.2.0",
          "model_name": "LayoutModel",
          "state": {
            "_model_module": "@jupyter-widgets/base",
            "_model_module_version": "1.2.0",
            "_model_name": "LayoutModel",
            "_view_count": null,
            "_view_module": "@jupyter-widgets/base",
            "_view_module_version": "1.2.0",
            "_view_name": "LayoutView",
            "align_content": null,
            "align_items": null,
            "align_self": null,
            "border": null,
            "bottom": null,
            "display": null,
            "flex": null,
            "flex_flow": null,
            "grid_area": null,
            "grid_auto_columns": null,
            "grid_auto_flow": null,
            "grid_auto_rows": null,
            "grid_column": null,
            "grid_gap": null,
            "grid_row": null,
            "grid_template_areas": null,
            "grid_template_columns": null,
            "grid_template_rows": null,
            "height": null,
            "justify_content": null,
            "justify_items": null,
            "left": null,
            "margin": null,
            "max_height": null,
            "max_width": null,
            "min_height": null,
            "min_width": null,
            "object_fit": null,
            "object_position": null,
            "order": null,
            "overflow": null,
            "overflow_x": null,
            "overflow_y": null,
            "padding": null,
            "right": null,
            "top": null,
            "visibility": null,
            "width": null
          }
        },
        "4adaba040c5b4afa81abb9dee47f0b10": {
          "model_module": "@jupyter-widgets/controls",
          "model_module_version": "1.5.0",
          "model_name": "DescriptionStyleModel",
          "state": {
            "_model_module": "@jupyter-widgets/controls",
            "_model_module_version": "1.5.0",
            "_model_name": "DescriptionStyleModel",
            "_view_count": null,
            "_view_module": "@jupyter-widgets/base",
            "_view_module_version": "1.2.0",
            "_view_name": "StyleView",
            "description_width": ""
          }
        },
        "51ac7cfc554e4a6aa03e7ca78852e767": {
          "model_module": "@jupyter-widgets/controls",
          "model_module_version": "1.5.0",
          "model_name": "DescriptionStyleModel",
          "state": {
            "_model_module": "@jupyter-widgets/controls",
            "_model_module_version": "1.5.0",
            "_model_name": "DescriptionStyleModel",
            "_view_count": null,
            "_view_module": "@jupyter-widgets/base",
            "_view_module_version": "1.2.0",
            "_view_name": "StyleView",
            "description_width": ""
          }
        },
        "529e00afef8e4b42a34ad861b5fec740": {
          "model_module": "@jupyter-widgets/base",
          "model_module_version": "1.2.0",
          "model_name": "LayoutModel",
          "state": {
            "_model_module": "@jupyter-widgets/base",
            "_model_module_version": "1.2.0",
            "_model_name": "LayoutModel",
            "_view_count": null,
            "_view_module": "@jupyter-widgets/base",
            "_view_module_version": "1.2.0",
            "_view_name": "LayoutView",
            "align_content": null,
            "align_items": null,
            "align_self": null,
            "border": null,
            "bottom": null,
            "display": null,
            "flex": null,
            "flex_flow": null,
            "grid_area": null,
            "grid_auto_columns": null,
            "grid_auto_flow": null,
            "grid_auto_rows": null,
            "grid_column": null,
            "grid_gap": null,
            "grid_row": null,
            "grid_template_areas": null,
            "grid_template_columns": null,
            "grid_template_rows": null,
            "height": null,
            "justify_content": null,
            "justify_items": null,
            "left": null,
            "margin": null,
            "max_height": null,
            "max_width": null,
            "min_height": null,
            "min_width": null,
            "object_fit": null,
            "object_position": null,
            "order": null,
            "overflow": null,
            "overflow_x": null,
            "overflow_y": null,
            "padding": null,
            "right": null,
            "top": null,
            "visibility": null,
            "width": null
          }
        },
        "5ad11313fc3b462db2c323448a275199": {
          "model_module": "@jupyter-widgets/controls",
          "model_module_version": "1.5.0",
          "model_name": "ProgressStyleModel",
          "state": {
            "_model_module": "@jupyter-widgets/controls",
            "_model_module_version": "1.5.0",
            "_model_name": "ProgressStyleModel",
            "_view_count": null,
            "_view_module": "@jupyter-widgets/base",
            "_view_module_version": "1.2.0",
            "_view_name": "StyleView",
            "bar_color": null,
            "description_width": ""
          }
        },
        "6ec7074416fa4aafa73f5c8f074f7100": {
          "model_module": "@jupyter-widgets/controls",
          "model_module_version": "1.5.0",
          "model_name": "ProgressStyleModel",
          "state": {
            "_model_module": "@jupyter-widgets/controls",
            "_model_module_version": "1.5.0",
            "_model_name": "ProgressStyleModel",
            "_view_count": null,
            "_view_module": "@jupyter-widgets/base",
            "_view_module_version": "1.2.0",
            "_view_name": "StyleView",
            "bar_color": null,
            "description_width": ""
          }
        },
        "78e4798b288a45a8aa71e479a9842d97": {
          "model_module": "@jupyter-widgets/base",
          "model_module_version": "1.2.0",
          "model_name": "LayoutModel",
          "state": {
            "_model_module": "@jupyter-widgets/base",
            "_model_module_version": "1.2.0",
            "_model_name": "LayoutModel",
            "_view_count": null,
            "_view_module": "@jupyter-widgets/base",
            "_view_module_version": "1.2.0",
            "_view_name": "LayoutView",
            "align_content": null,
            "align_items": null,
            "align_self": null,
            "border": null,
            "bottom": null,
            "display": null,
            "flex": null,
            "flex_flow": null,
            "grid_area": null,
            "grid_auto_columns": null,
            "grid_auto_flow": null,
            "grid_auto_rows": null,
            "grid_column": null,
            "grid_gap": null,
            "grid_row": null,
            "grid_template_areas": null,
            "grid_template_columns": null,
            "grid_template_rows": null,
            "height": null,
            "justify_content": null,
            "justify_items": null,
            "left": null,
            "margin": null,
            "max_height": null,
            "max_width": null,
            "min_height": null,
            "min_width": null,
            "object_fit": null,
            "object_position": null,
            "order": null,
            "overflow": null,
            "overflow_x": null,
            "overflow_y": null,
            "padding": null,
            "right": null,
            "top": null,
            "visibility": null,
            "width": null
          }
        },
        "873c8b0dbde04375a95dd854206531da": {
          "model_module": "@jupyter-widgets/controls",
          "model_module_version": "1.5.0",
          "model_name": "HTMLModel",
          "state": {
            "_dom_classes": [],
            "_model_module": "@jupyter-widgets/controls",
            "_model_module_version": "1.5.0",
            "_model_name": "HTMLModel",
            "_view_count": null,
            "_view_module": "@jupyter-widgets/controls",
            "_view_module_version": "1.5.0",
            "_view_name": "HTMLView",
            "description": "",
            "description_tooltip": null,
            "layout": "IPY_MODEL_01b40cef48f442e287ff1188444d4552",
            "placeholder": "​",
            "style": "IPY_MODEL_b7613179f9034c778d281a5ff9bf237b",
            "value": "generation_config.json: 100%"
          }
        },
        "8de4f335489c4157a650fb09fc884acc": {
          "model_module": "@jupyter-widgets/base",
          "model_module_version": "1.2.0",
          "model_name": "LayoutModel",
          "state": {
            "_model_module": "@jupyter-widgets/base",
            "_model_module_version": "1.2.0",
            "_model_name": "LayoutModel",
            "_view_count": null,
            "_view_module": "@jupyter-widgets/base",
            "_view_module_version": "1.2.0",
            "_view_name": "LayoutView",
            "align_content": null,
            "align_items": null,
            "align_self": null,
            "border": null,
            "bottom": null,
            "display": null,
            "flex": null,
            "flex_flow": null,
            "grid_area": null,
            "grid_auto_columns": null,
            "grid_auto_flow": null,
            "grid_auto_rows": null,
            "grid_column": null,
            "grid_gap": null,
            "grid_row": null,
            "grid_template_areas": null,
            "grid_template_columns": null,
            "grid_template_rows": null,
            "height": null,
            "justify_content": null,
            "justify_items": null,
            "left": null,
            "margin": null,
            "max_height": null,
            "max_width": null,
            "min_height": null,
            "min_width": null,
            "object_fit": null,
            "object_position": null,
            "order": null,
            "overflow": null,
            "overflow_x": null,
            "overflow_y": null,
            "padding": null,
            "right": null,
            "top": null,
            "visibility": null,
            "width": null
          }
        },
        "8f4b829d9850477c941c0a36703ef8b2": {
          "model_module": "@jupyter-widgets/controls",
          "model_module_version": "1.5.0",
          "model_name": "HBoxModel",
          "state": {
            "_dom_classes": [],
            "_model_module": "@jupyter-widgets/controls",
            "_model_module_version": "1.5.0",
            "_model_name": "HBoxModel",
            "_view_count": null,
            "_view_module": "@jupyter-widgets/controls",
            "_view_module_version": "1.5.0",
            "_view_name": "HBoxView",
            "box_style": "",
            "children": [
              "IPY_MODEL_144800c694024d159d8db0c5d302e9dd",
              "IPY_MODEL_c1a39a73a54d470fb38ae86034ce17c4",
              "IPY_MODEL_e48ab6abae334dec9a874ad9ddcc2b01"
            ],
            "layout": "IPY_MODEL_78e4798b288a45a8aa71e479a9842d97"
          }
        },
        "ac19c8fc7dbd4906be3358ba84f331bb": {
          "model_module": "@jupyter-widgets/controls",
          "model_module_version": "1.5.0",
          "model_name": "FloatProgressModel",
          "state": {
            "_dom_classes": [],
            "_model_module": "@jupyter-widgets/controls",
            "_model_module_version": "1.5.0",
            "_model_name": "FloatProgressModel",
            "_view_count": null,
            "_view_module": "@jupyter-widgets/controls",
            "_view_module_version": "1.5.0",
            "_view_name": "ProgressView",
            "bar_style": "success",
            "description": "",
            "description_tooltip": null,
            "layout": "IPY_MODEL_bca1f5b3549046e19ed013d38481ad3d",
            "max": 147,
            "min": 0,
            "orientation": "horizontal",
            "style": "IPY_MODEL_6ec7074416fa4aafa73f5c8f074f7100",
            "value": 147
          }
        },
        "b7613179f9034c778d281a5ff9bf237b": {
          "model_module": "@jupyter-widgets/controls",
          "model_module_version": "1.5.0",
          "model_name": "DescriptionStyleModel",
          "state": {
            "_model_module": "@jupyter-widgets/controls",
            "_model_module_version": "1.5.0",
            "_model_name": "DescriptionStyleModel",
            "_view_count": null,
            "_view_module": "@jupyter-widgets/base",
            "_view_module_version": "1.2.0",
            "_view_name": "StyleView",
            "description_width": ""
          }
        },
        "b76589bb56ad4434a55dc4933d1b9f52": {
          "model_module": "@jupyter-widgets/base",
          "model_module_version": "1.2.0",
          "model_name": "LayoutModel",
          "state": {
            "_model_module": "@jupyter-widgets/base",
            "_model_module_version": "1.2.0",
            "_model_name": "LayoutModel",
            "_view_count": null,
            "_view_module": "@jupyter-widgets/base",
            "_view_module_version": "1.2.0",
            "_view_name": "LayoutView",
            "align_content": null,
            "align_items": null,
            "align_self": null,
            "border": null,
            "bottom": null,
            "display": null,
            "flex": null,
            "flex_flow": null,
            "grid_area": null,
            "grid_auto_columns": null,
            "grid_auto_flow": null,
            "grid_auto_rows": null,
            "grid_column": null,
            "grid_gap": null,
            "grid_row": null,
            "grid_template_areas": null,
            "grid_template_columns": null,
            "grid_template_rows": null,
            "height": null,
            "justify_content": null,
            "justify_items": null,
            "left": null,
            "margin": null,
            "max_height": null,
            "max_width": null,
            "min_height": null,
            "min_width": null,
            "object_fit": null,
            "object_position": null,
            "order": null,
            "overflow": null,
            "overflow_x": null,
            "overflow_y": null,
            "padding": null,
            "right": null,
            "top": null,
            "visibility": null,
            "width": null
          }
        },
        "bca1f5b3549046e19ed013d38481ad3d": {
          "model_module": "@jupyter-widgets/base",
          "model_module_version": "1.2.0",
          "model_name": "LayoutModel",
          "state": {
            "_model_module": "@jupyter-widgets/base",
            "_model_module_version": "1.2.0",
            "_model_name": "LayoutModel",
            "_view_count": null,
            "_view_module": "@jupyter-widgets/base",
            "_view_module_version": "1.2.0",
            "_view_name": "LayoutView",
            "align_content": null,
            "align_items": null,
            "align_self": null,
            "border": null,
            "bottom": null,
            "display": null,
            "flex": null,
            "flex_flow": null,
            "grid_area": null,
            "grid_auto_columns": null,
            "grid_auto_flow": null,
            "grid_auto_rows": null,
            "grid_column": null,
            "grid_gap": null,
            "grid_row": null,
            "grid_template_areas": null,
            "grid_template_columns": null,
            "grid_template_rows": null,
            "height": null,
            "justify_content": null,
            "justify_items": null,
            "left": null,
            "margin": null,
            "max_height": null,
            "max_width": null,
            "min_height": null,
            "min_width": null,
            "object_fit": null,
            "object_position": null,
            "order": null,
            "overflow": null,
            "overflow_x": null,
            "overflow_y": null,
            "padding": null,
            "right": null,
            "top": null,
            "visibility": null,
            "width": null
          }
        },
        "c1a39a73a54d470fb38ae86034ce17c4": {
          "model_module": "@jupyter-widgets/controls",
          "model_module_version": "1.5.0",
          "model_name": "FloatProgressModel",
          "state": {
            "_dom_classes": [],
            "_model_module": "@jupyter-widgets/controls",
            "_model_module_version": "1.5.0",
            "_model_name": "FloatProgressModel",
            "_view_count": null,
            "_view_module": "@jupyter-widgets/controls",
            "_view_module_version": "1.5.0",
            "_view_name": "ProgressView",
            "bar_style": "success",
            "description": "",
            "description_tooltip": null,
            "layout": "IPY_MODEL_3c012a12fdc447f59a99d224ae73ad76",
            "max": 2329735129,
            "min": 0,
            "orientation": "horizontal",
            "style": "IPY_MODEL_5ad11313fc3b462db2c323448a275199",
            "value": 2329735129
          }
        },
        "c8ac13ec9ad8461693a32eee94389d76": {
          "model_module": "@jupyter-widgets/controls",
          "model_module_version": "1.5.0",
          "model_name": "DescriptionStyleModel",
          "state": {
            "_model_module": "@jupyter-widgets/controls",
            "_model_module_version": "1.5.0",
            "_model_name": "DescriptionStyleModel",
            "_view_count": null,
            "_view_module": "@jupyter-widgets/base",
            "_view_module_version": "1.2.0",
            "_view_name": "StyleView",
            "description_width": ""
          }
        },
        "d76848501dcb4dfe94b21dad5bd38174": {
          "model_module": "@jupyter-widgets/controls",
          "model_module_version": "1.5.0",
          "model_name": "HTMLModel",
          "state": {
            "_dom_classes": [],
            "_model_module": "@jupyter-widgets/controls",
            "_model_module_version": "1.5.0",
            "_model_name": "HTMLModel",
            "_view_count": null,
            "_view_module": "@jupyter-widgets/controls",
            "_view_module_version": "1.5.0",
            "_view_name": "HTMLView",
            "description": "",
            "description_tooltip": null,
            "layout": "IPY_MODEL_8de4f335489c4157a650fb09fc884acc",
            "placeholder": "​",
            "style": "IPY_MODEL_51ac7cfc554e4a6aa03e7ca78852e767",
            "value": " 147/147 [00:00&lt;00:00, 12.7kB/s]"
          }
        },
        "e466422dda974beb92e4d5f9f8f02e86": {
          "model_module": "@jupyter-widgets/base",
          "model_module_version": "1.2.0",
          "model_name": "LayoutModel",
          "state": {
            "_model_module": "@jupyter-widgets/base",
            "_model_module_version": "1.2.0",
            "_model_name": "LayoutModel",
            "_view_count": null,
            "_view_module": "@jupyter-widgets/base",
            "_view_module_version": "1.2.0",
            "_view_name": "LayoutView",
            "align_content": null,
            "align_items": null,
            "align_self": null,
            "border": null,
            "bottom": null,
            "display": null,
            "flex": null,
            "flex_flow": null,
            "grid_area": null,
            "grid_auto_columns": null,
            "grid_auto_flow": null,
            "grid_auto_rows": null,
            "grid_column": null,
            "grid_gap": null,
            "grid_row": null,
            "grid_template_areas": null,
            "grid_template_columns": null,
            "grid_template_rows": null,
            "height": null,
            "justify_content": null,
            "justify_items": null,
            "left": null,
            "margin": null,
            "max_height": null,
            "max_width": null,
            "min_height": null,
            "min_width": null,
            "object_fit": null,
            "object_position": null,
            "order": null,
            "overflow": null,
            "overflow_x": null,
            "overflow_y": null,
            "padding": null,
            "right": null,
            "top": null,
            "visibility": null,
            "width": null
          }
        },
        "e48ab6abae334dec9a874ad9ddcc2b01": {
          "model_module": "@jupyter-widgets/controls",
          "model_module_version": "1.5.0",
          "model_name": "HTMLModel",
          "state": {
            "_dom_classes": [],
            "_model_module": "@jupyter-widgets/controls",
            "_model_module_version": "1.5.0",
            "_model_name": "HTMLModel",
            "_view_count": null,
            "_view_module": "@jupyter-widgets/controls",
            "_view_module_version": "1.5.0",
            "_view_name": "HTMLView",
            "description": "",
            "description_tooltip": null,
            "layout": "IPY_MODEL_e466422dda974beb92e4d5f9f8f02e86",
            "placeholder": "​",
            "style": "IPY_MODEL_c8ac13ec9ad8461693a32eee94389d76",
            "value": " 2.33G/2.33G [00:05&lt;00:00, 474MB/s]"
          }
        }
      }
    }
  },
  "nbformat": 4,
  "nbformat_minor": 0
}